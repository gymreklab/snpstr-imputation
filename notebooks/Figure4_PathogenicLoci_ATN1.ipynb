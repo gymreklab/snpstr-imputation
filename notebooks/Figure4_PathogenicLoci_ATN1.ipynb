{
 "cells": [
  {
   "cell_type": "code",
   "execution_count": 77,
   "metadata": {
    "collapsed": false
   },
   "outputs": [
    {
     "name": "stdout",
     "output_type": "stream",
     "text": [
      "Populating the interactive namespace from numpy and matplotlib\n"
     ]
    },
    {
     "name": "stderr",
     "output_type": "stream",
     "text": [
      "/usr/lib/python3.4/site-packages/IPython/core/magics/pylab.py:161: UserWarning: pylab import has clobbered these variables: ['f', 'dist']\n",
      "`%matplotlib` prevents importing * from pylab and numpy\n",
      "  \"\\n`%matplotlib` prevents importing * from pylab and numpy\"\n"
     ]
    }
   ],
   "source": [
    "%pylab inline\n",
    "from vplot import *\n",
    "import pandas as pd\n",
    "import os\n",
    "import scipy.stats\n",
    "import seaborn as sns\n",
    "\n",
    "locus = \"ATN1\"\n",
    "CHROM=12\n",
    "START=7045880\n",
    "RSIDS=[\"rs4963516\",\"rs1007924\",\"rs7310941\",\n",
    "       \"rs7303722\", \"rs2239167\",\"rs34199021\",\"rs2071075\",\n",
    "    \"rs2071076\",\"rs2159887\"]\n",
    "RISKALLELES = [\"G\",\"A\",\"G\",\"T\",\"A\",\"A\",\"T\",\"C\",\"C\"]\n",
    "\n",
    "OUTPATH=\"pdfs/\"\n",
    "PREFIX=\"Figure5\"\n",
    "DATADIR=\"/storage/mgymrek/ssc-imputation/\"\n",
    "\n",
    "# Allow us to edit fonts in Illustrator\n",
    "import matplotlib\n",
    "matplotlib.rcParams['ps.useafm'] = True\n",
    "matplotlib.rcParams['pdf.use14corefonts'] = True\n",
    "matplotlib.rcParams['text.usetex'] = True\n",
    "\n",
    "import matplotlib.path as mpath\n",
    "import matplotlib.lines as mlines\n",
    "import matplotlib.patches as mpatches\n",
    "from matplotlib.collections import PatchCollection\n",
    "from matplotlib import gridspec"
   ]
  },
  {
   "cell_type": "markdown",
   "metadata": {},
   "source": [
    "## Figure 4A: haplotype structure"
   ]
  },
  {
   "cell_type": "code",
   "execution_count": 78,
   "metadata": {
    "collapsed": false
   },
   "outputs": [],
   "source": [
    "# Write snplist\n",
    "RSIDS_all = RSIDS\n",
    "f = open(\"snplist_%s.txt\"%locus, \"w\")\n",
    "for rs in RSIDS_all:\n",
    "    f.write(rs+\"\\n\")\n",
    "f.close()"
   ]
  },
  {
   "cell_type": "code",
   "execution_count": 79,
   "metadata": {
    "collapsed": false
   },
   "outputs": [
    {
     "name": "stdout",
     "output_type": "stream",
     "text": [
      "Extracting haplotypes\n"
     ]
    }
   ],
   "source": [
    "%%bash -s \"$CHROM\" \"$START\" \"$locus\"\n",
    "CHROM=$1\n",
    "START=$2\n",
    "LOCUS=$3\n",
    "WINDOW=100000\n",
    "#VCF=/storage/s1saini/hipstr_allfilters/str_snp/chr${CHROM}.str.snp.feb18.vcf.gz\n",
    "VCF=/storage/s1saini/manuscript_strsnp/fig3/1kg.panel/1kg.snp.str.chr${CHROM}.vcf.gz\n",
    "\n",
    "WSTART=$((START-$WINDOW))\n",
    "WEND=$((START+$WINDOW))\n",
    "\n",
    "# Extract snp list\n",
    "bcftools query -r ${CHROM}:${WSTART}-${WEND} \\\n",
    "     -f \"%ID\\t%CHROM\\t%POS\\t%REF\\n\" \\\n",
    "     $VCF | \\\n",
    "     grep -f snplist_${LOCUS}.txt | \\\n",
    "     awk '(length($4)==1)' | awk '{print $2 \"\\t\" $3-1 \"\\t\" $3}' > snp_loci_${LOCUS}.bed\n",
    "\n",
    "# Add best SNP for each allele \n",
    "#for allele in -21 -15 -9 -6 -3 0 3 6 9 15\n",
    "#do\n",
    "#     cat snp_loci_alleler2_${LOCUS}.tab | awk -v\"allele=$allele\" '($3==allele)' | \\\n",
    "#        sort -k 7 -g -r | head -n 1 | cut -f 2 | sed 's/:/\\t/' | \\\n",
    "#        awk '{print $1 \"\\t\" $2-1 \"\\t\" $2}' >> snp_loci_${LOCUS}.bed\n",
    "#done\n",
    "#cat snp_loci_${LOCUS}.bed | sort | uniq > del\n",
    "#mv del snp_loci_${LOCUS}.bed\n",
    "\n",
    "# Extract haplotypes \n",
    "echo \"Extracting haplotypes\"\n",
    "bcftools query -r ${CHROM}:${WSTART}-${WEND} \\\n",
    "     -S 1kg_eur_samples.txt \\\n",
    "     -R snp_loci_${LOCUS}.bed \\\n",
    "     -f \"%ID\\t%POS\\t%REF\\t%ALT\\t[%GT\\t]\\n\" \\\n",
    "     $VCF | \\\n",
    "     awk '(length($3)==1)' | sed 's/|/\\t/g' > haplotypes_${LOCUS}.tab\n",
    "bcftools query -r ${CHROM}:${START}-${START} \\\n",
    "     -S 1kg_eur_samples.txt \\\n",
    "     -f \"%ID\\t%POS\\t%REF\\t%ALT\\t[%GT\\t]\\n\" ${VCF} | \\\n",
    "     awk -v\"start=$START\" '($2==start)' | \\\n",
    "     sed 's/|/\\t/g' >> haplotypes_${LOCUS}.tab"
   ]
  },
  {
   "cell_type": "code",
   "execution_count": 80,
   "metadata": {
    "collapsed": true
   },
   "outputs": [],
   "source": [
    "def PlotHapmaptrix(hapmatrix, ar2, allele, allsnps, fname):\n",
    "    box_w =  1.0/len(allsnps)\n",
    "    box_h = box_w\n",
    "    hap_height = hapmatrix.shape[0]*0.0025\n",
    "    legend_height = 0\n",
    "    fig = plt.figure()\n",
    "    fig.set_size_inches(3, hap_height + legend_height)\n",
    "    #gs = gridspec.GridSpec(2, 1, height_ratios=[hap_height, legend_height]) \n",
    "    ax = fig.add_subplot(111)\n",
    "    # Plot SNPs\n",
    "    imx = ax.imshow(hapmatrix, cmap=plt.cm.Greys.from_list(\"snp\", [\"lightgray\",\"black\"]), \n",
    "              aspect=\"auto\", extent=(0, hapmatrix.shape[1], box_h, hapmatrix.shape[0]-box_h))\n",
    "    ax.set_yticks([]);\n",
    "    ax.set_yticklabels([]);\n",
    "    ax.set_xticks([]);\n",
    "    ax.set_xticklabels([]);\n",
    "    ax.set_title(\"STR allele %s\"%allele)\n",
    "    fig.savefig(fname)"
   ]
  },
  {
   "cell_type": "code",
   "execution_count": 81,
   "metadata": {
    "collapsed": false
   },
   "outputs": [],
   "source": [
    "import vcf\n",
    "\n",
    "# Load list of loci to restrict to\n",
    "usesnps = pd.read_csv(\"snp_loci_%s.bed\"%locus, sep=\"\\t\", names=[\"chrom\",\"start\",\"snppos\"])\n",
    "# Load allele r2\n",
    "ar2 = pd.read_csv(\"snp_loci_alleler2_%s.tab\"%locus, sep=\"\\t\")\n",
    "ar2[\"snppos\"] = ar2[\"locus2\"].apply(lambda x: int(x.split(\":\")[1]))\n",
    "ar2 = pd.merge(ar2, usesnps, on=[\"snppos\"])\n",
    "\n",
    "chrom=ar2[\"locus1\"].values[0].split(\":\")[0]\n",
    "# Convert snp pos to rsid\n",
    "reader = vcf.Reader(open(\"/storage/s1saini/hipstr_allfilters/str_snp/chr%s.str.snp.feb18.vcf.gz\"%chrom, \"rb\"))\n",
    "rsids = []\n",
    "for i in range(ar2.shape[0]):\n",
    "    start = int(ar2[\"locus2\"].values[i].split(\":\")[1])\n",
    "    records = reader.fetch(chrom, start-1, start)\n",
    "    rid = None\n",
    "    for r in records:\n",
    "        rid = r.ID.replace(\"_\",\"\")\n",
    "        break\n",
    "    rsids.append(rid)\n",
    "ar2[\"rsid\"] = rsids\n",
    "ar2[\"pos\"] = ar2[\"locus2\"].apply(lambda x: \"pos\"+x.split(\":\")[1])\n",
    "ar2 = ar2[ar2[\"MAF\"]>=0.05]"
   ]
  },
  {
   "cell_type": "code",
   "execution_count": 82,
   "metadata": {
    "collapsed": false
   },
   "outputs": [
    {
     "name": "stderr",
     "output_type": "stream",
     "text": [
      "-21:(119, 9)\n",
      "-15:(119, 9)\n",
      "-9:(21, 9)\n",
      "-6:(10, 9)\n",
      "-3:(39, 9)\n",
      "0:(377, 9)\n",
      "3:(202, 9)\n",
      "6:(59, 9)\n",
      "9:(14, 9)\n",
      "15:(21, 9)\n",
      "max:(26, 9)\n"
     ]
    },
    {
     "data": {
      "image/png": "[encoded data removed]",
      "text/plain": [
       "<matplotlib.figure.Figure at 0x7f451a6a5240>"
      ]
     },
     "metadata": {},
     "output_type": "display_data"
    },
    {
     "data": {
      "image/png": "[encoded data removed]",
      "text/plain": [
       "<matplotlib.figure.Figure at 0x7f452df9dfd0>"
      ]
     },
     "metadata": {},
     "output_type": "display_data"
    },
    {
     "data": {
      "image/png": "[encoded data removed]",
      "text/plain": [
       "<matplotlib.figure.Figure at 0x7f452d56f278>"
      ]
     },
     "metadata": {},
     "output_type": "display_data"
    },
    {
     "data": {
      "image/png": "[encoded data removed]",
      "text/plain": [
       "<matplotlib.figure.Figure at 0x7f4535453240>"
      ]
     },
     "metadata": {},
     "output_type": "display_data"
    },
    {
     "data": {
      "image/png": "[encoded data removed]",
      "text/plain": [
       "<matplotlib.figure.Figure at 0x7f4516ec8d68>"
      ]
     },
     "metadata": {},
     "output_type": "display_data"
    },
    {
     "data": {
      "image/png": "[encoded data removed]",
      "text/plain": [
       "<matplotlib.figure.Figure at 0x7f4512285860>"
      ]
     },
     "metadata": {},
     "output_type": "display_data"
    },
    {
     "data": {
      "image/png": "[encoded data removed]",
      "text/plain": [
       "<matplotlib.figure.Figure at 0x7f4512280c18>"
      ]
     },
     "metadata": {},
     "output_type": "display_data"
    },
    {
     "data": {
      "image/png": "[encoded data removed]",
      "text/plain": [
       "<matplotlib.figure.Figure at 0x7f452e4596a0>"
      ]
     },
     "metadata": {},
     "output_type": "display_data"
    },
    {
     "data": {
      "image/png": "[encoded data removed]",
      "text/plain": [
       "<matplotlib.figure.Figure at 0x7f452198c128>"
      ]
     },
     "metadata": {},
     "output_type": "display_data"
    },
    {
     "data": {
      "image/png": "[encoded data removed]",
      "text/plain": [
       "<matplotlib.figure.Figure at 0x7f452d9a0438>"
      ]
     },
     "metadata": {},
     "output_type": "display_data"
    },
    {
     "data": {
      "image/png": "[encoded data removed]",
      "text/plain": [
       "<matplotlib.figure.Figure at 0x7f452e736358>"
      ]
     },
     "metadata": {},
     "output_type": "display_data"
    }
   ],
   "source": [
    "# Read in haplotypes\n",
    "numhaps = 503*2\n",
    "colnames = [\"id\",\"pos\",\"ref\",\"alt\"] + [\"hap_%s\"%i for i in range(numhaps)]\n",
    "haplotypes = pd.read_csv(\"haplotypes_%s.tab\"%(locus), sep=\"\\t\",\n",
    "                        names=colnames, usecols=range(len(colnames)))\n",
    "haplotypes[\"vartype\"] = haplotypes.apply(lambda x: [\"SNP\",\"STR\"][int(len(x[\"ref\"])>1)], 1)\n",
    "haplotypes.index = [\"pos\"+str(haplotypes[\"pos\"].values[i]) for i in range(haplotypes.shape[0]-1)] + [\"STR\"]\n",
    "\n",
    "# Annotate STR lengths\n",
    "ref = haplotypes[haplotypes[\"vartype\"]==\"STR\"][\"ref\"].values[0]\n",
    "alt = haplotypes[haplotypes[\"vartype\"]==\"STR\"][\"alt\"].values[0].split(\",\")\n",
    "str_allele_lengths = [len(ref)] + [len(item) for item in alt]\n",
    "str_allele_lengths = [item-len(ref) for item in str_allele_lengths]\n",
    "for i in range(numhaps):\n",
    "    col = \"hap_%s\"%i\n",
    "    gtlen = str_allele_lengths[haplotypes[haplotypes[\"vartype\"]==\"STR\"][col].values[0]]\n",
    "    haplotypes.loc[\"STR\", col] = gtlen\n",
    "\n",
    "# Reaad in allele-r2\n",
    "hapcols = colnames[4:]\n",
    "haplotype_filt = haplotypes[hapcols].transpose()\n",
    "\n",
    "allsnps = [item for item in haplotype_filt.columns if \"pos\" in item]\n",
    "ar2hap = ar2[ar2[\"pos\"].apply(lambda x: x in allsnps)]\n",
    "best_ar2 = ar2hap.groupby(\"pos\", as_index=False).agg({\"r2\": max}).sort_values(\"r2\", ascending=True)\n",
    "\n",
    "# Get haplotype matrix, sort by allele-r2\n",
    "haplotype_filt = haplotype_filt.sort_values(by=\"STR\")\n",
    "haplotype_filt = haplotype_filt.sort_values([\"STR\"]+list(best_ar2[\"pos\"].values), ascending=False)\n",
    "\n",
    "for allele in sorted(list(set(str_allele_lengths)))+[\"max\"]:\n",
    "    if allele == \"max\":\n",
    "        hapmatrix = np.matrix(haplotype_filt[haplotype_filt[\"STR\"]>=15][allsnps])\n",
    "    else: hapmatrix = np.matrix(haplotype_filt[haplotype_filt[\"STR\"]==allele][allsnps])\n",
    "    if hapmatrix.shape[0]>= 10:\n",
    "        sys.stderr.write(\"%s:%s\\n\"%(allele, hapmatrix.shape))\n",
    "        fname = os.path.join(OUTPATH, \"%s_Haplotypes_%s.pdf\"%(PREFIX,allele))\n",
    "        PlotHapmaptrix(hapmatrix, ar2, allele, allsnps, fname)"
   ]
  },
  {
   "cell_type": "code",
   "execution_count": 83,
   "metadata": {
    "collapsed": false
   },
   "outputs": [
    {
     "name": "stdout",
     "output_type": "stream",
     "text": [
      "6948028\n",
      "7076236\n"
     ]
    },
    {
     "data": {
      "image/png": "[encoded data removed]",
      "text/plain": [
       "<matplotlib.figure.Figure at 0x7f4526aab978>"
      ]
     },
     "metadata": {},
     "output_type": "display_data"
    }
   ],
   "source": [
    "fig = plt.figure()\n",
    "ax = fig.add_subplot(111)\n",
    "# Plot SNPs\n",
    "snps = haplotypes[haplotypes[\"vartype\"]!=\"STR\"]\n",
    "ax.scatter(snps[\"pos\"], [0]*snps.shape[0], color=\"gray\", s=2)\n",
    "# Plot STR\n",
    "strs = haplotypes[haplotypes[\"vartype\"]==\"STR\"]\n",
    "ax.scatter(strs[\"pos\"], [0]*strs.shape[0], color=\"red\")\n",
    "# Risk haplotype snps\n",
    "rsnps = haplotypes[haplotypes[\"id\"].apply(lambda x: x in RSIDS)]\n",
    "ax.scatter(rsnps[\"pos\"], [0]*rsnps.shape[0], color=\"blue\")\n",
    "fig.savefig(os.path.join(OUTPATH, \"%s_Positions.pdf\"%PREFIX))\n",
    "print(min(rsnps[\"pos\"]))\n",
    "print(max(rsnps[\"pos\"]))"
   ]
  },
  {
   "cell_type": "code",
   "execution_count": 84,
   "metadata": {
    "collapsed": false
   },
   "outputs": [
    {
     "name": "stdout",
     "output_type": "stream",
     "text": [
      "6948028\n",
      "7076236\n"
     ]
    },
    {
     "data": {
      "image/png": "[encoded data removed]",
      "text/plain": [
       "<matplotlib.figure.Figure at 0x7f452eca1f28>"
      ]
     },
     "metadata": {},
     "output_type": "display_data"
    }
   ],
   "source": [
    "fig = plt.figure()\n",
    "ax = fig.add_subplot(111)\n",
    "haplotypes[\"xpos\"] = range(haplotypes.shape[0])\n",
    "# Plot SNPs\n",
    "snps = haplotypes[haplotypes[\"vartype\"]!=\"STR\"]\n",
    "ax.scatter(snps[\"xpos\"], [0]*snps.shape[0], color=\"gray\", s=2)\n",
    "# Plot STR\n",
    "strs = haplotypes[haplotypes[\"vartype\"]==\"STR\"]\n",
    "ax.scatter(strs[\"xpos\"], [0]*strs.shape[0], color=\"red\")\n",
    "# Risk haplotype snps\n",
    "rsnps = haplotypes[haplotypes[\"id\"].apply(lambda x: x in RSIDS)]\n",
    "ax.scatter(rsnps[\"xpos\"], [0]*rsnps.shape[0], color=\"blue\")\n",
    "fig.savefig(os.path.join(OUTPATH, \"%s_XPositions.pdf\"%PREFIX))\n",
    "print(min(rsnps[\"pos\"]))\n",
    "print(max(rsnps[\"pos\"]))"
   ]
  },
  {
   "cell_type": "markdown",
   "metadata": {},
   "source": [
    "## Figure 4B: Bubbles"
   ]
  },
  {
   "cell_type": "code",
   "execution_count": 85,
   "metadata": {
    "collapsed": false
   },
   "outputs": [
    {
     "data": {
      "text/plain": [
       "(0.9237198906174469, 0.0)"
      ]
     },
     "execution_count": 85,
     "metadata": {},
     "output_type": "execute_result"
    },
    {
     "data": {
      "image/png": "[encoded data removed]",
      "text/plain": [
       "<matplotlib.figure.Figure at 0x7f452e073be0>"
      ]
     },
     "metadata": {},
     "output_type": "display_data"
    }
   ],
   "source": [
    "LOODIR=\"/storage/s1saini/manuscript_strsnp/fig3/loo_pathogenic/\"\n",
    "# Get LOO results\n",
    "cmd=\"\"\"cat %s/%s_%s/*.diff.txt | cut -d' ' -f 1,2,3,5,6 > ssc_res_%s.tab\"\"\"%(LOODIR,CHROM,START,locus)\n",
    "os.system(cmd)\n",
    "\n",
    "# Load results and plot\n",
    "# Bubble plot\n",
    "d = pd.read_csv(\"ssc_res_%s.tab\"%locus, sep=\" \", names=[\"strid\",\"true_1\",\"true_2\",\"impute_1\",\"impute_2\"])\n",
    "d[\"sum_true\"] = d[\"true_1\"]+d[\"true_2\"]\n",
    "d[\"sum_imp\"] = d[\"impute_1\"] + d[\"impute_2\"]\n",
    "bubbles = d.groupby([\"sum_true\",\"sum_imp\"], as_index=False).agg({\"strid\": len})\n",
    "\n",
    "# Bubble chart of obs vs. exp\n",
    "minval=max([min(bubbles[\"sum_true\"]),min(bubbles[\"sum_imp\"])])\n",
    "maxval=min([max(bubbles[\"sum_true\"]),max(bubbles[\"sum_imp\"])])\n",
    "\n",
    "fig = plt.figure()\n",
    "ax = fig.add_subplot(111)\n",
    "ax.scatter(bubbles[\"sum_true\"], bubbles[\"sum_imp\"], s=bubbles[\"strid\"],\n",
    "           color=\"gray\", edgecolor=\"black\", linewidth=1)\n",
    "ax.plot([minval,maxval], [minval,maxval], color=\"black\", linestyle=\"dashed\")\n",
    "\n",
    "# Plot legend\n",
    "xvals = [-40]*3\n",
    "yvals = [10, 18, 30]\n",
    "sizes = [10, 100, 1000]\n",
    "ax.scatter(xvals, yvals, s=sizes, color=\"gray\", edgecolor=\"black\", linewidth=1)\n",
    "\n",
    "ax.spines['right'].set_visible(False)\n",
    "ax.spines['top'].set_visible(False)\n",
    "ax.yaxis.set_ticks_position('left')\n",
    "ax.xaxis.set_ticks_position('bottom')\n",
    "ax.set_xlabel(\"Genotyped dosage (bp relative to hg19)\", size=15)\n",
    "ax.set_ylabel(\"Imputed dosage (bp relative to hg19)\", size=15)\n",
    "ax.set_xticklabels([int(x) for x in ax.get_xticks()], size=12)\n",
    "ax.set_yticklabels([int(x) for x in ax.get_yticks()], size=12);\n",
    "\n",
    "fig.savefig(os.path.join(OUTPATH, \"%s_bubbles.pdf\"%PREFIX))\n",
    "scipy.stats.pearsonr(d[\"sum_true\"], d[\"sum_imp\"])"
   ]
  },
  {
   "cell_type": "markdown",
   "metadata": {},
   "source": [
    "## Figure 4C: SNP R2 heatmap"
   ]
  },
  {
   "cell_type": "code",
   "execution_count": 86,
   "metadata": {
    "collapsed": false
   },
   "outputs": [
    {
     "data": {
      "image/png": "[encoded data removed]",
      "text/plain": [
       "<matplotlib.figure.Figure at 0x7f452d243b70>"
      ]
     },
     "metadata": {},
     "output_type": "display_data"
    }
   ],
   "source": [
    "# Make matrix of allele num vs. SNP\n",
    "sub = ar2[ar2[\"MAF\"]>=0.05]\n",
    "alleles = sorted(list(set(sub[\"allele\"])))\n",
    "snps = sorted(list(set(sub[\"snppos\"])))\n",
    "rsids = [sub[sub[\"snppos\"]==item][\"rsid\"].values[0] for item in snps]\n",
    "\n",
    "data = np.zeros((len(alleles), len(snps)))\n",
    "for i in range(len(alleles)):\n",
    "    for j in range(len(snps)):\n",
    "        r2 = sub[(sub[\"allele\"]==alleles[i]) & (sub[\"snppos\"]==snps[j])][\"r2\"].values[0]\n",
    "        data[i,j] = r2\n",
    "\n",
    "fig = plt.figure()\n",
    "fig.set_size_inches((25, 5))\n",
    "ax = fig.add_subplot(111)\n",
    "sns.heatmap(data, cmap=plt.cm.Blues, vmin=0, vmax=1, yticklabels=alleles, xticklabels=rsids, ax=ax, cbar=False);\n",
    "ax.set_xticklabels(ax.get_xticklabels(), rotation=80, size=10);\n",
    "ax.set_yticklabels(ax.get_yticklabels(), size=12, rotation=0);\n",
    "ax.set_ylabel(\"bp relative to hg19\", size=20);\n",
    "fig.savefig(os.path.join(OUTPATH, \"%s_alleler2.pdf\"%PREFIX))"
   ]
  },
  {
   "cell_type": "markdown",
   "metadata": {},
   "source": [
    "## Figure 4D: Risk haplotype"
   ]
  },
  {
   "cell_type": "code",
   "execution_count": 87,
   "metadata": {
    "collapsed": true
   },
   "outputs": [],
   "source": [
    "# File of SNP RSIDs to check\n",
    "f = open(\"snplist.txt\",\"w\")\n",
    "for r in RSIDS: f.write(r+\"\\n\")\n",
    "f.close()"
   ]
  },
  {
   "cell_type": "code",
   "execution_count": 88,
   "metadata": {
    "collapsed": false
   },
   "outputs": [
    {
     "name": "stdout",
     "output_type": "stream",
     "text": [
      "Extracting haplotypes\n"
     ]
    }
   ],
   "source": [
    "%%bash -s \"$CHROM\" \"$START\" \"$locus\"\n",
    "CHROM=$1\n",
    "START=$2\n",
    "LOCUS=$3\n",
    "WINDOW=100000\n",
    "VCF=/storage/s1saini/hipstr_allfilters/str_snp/chr${CHROM}.str.snp.feb18.vcf.gz\n",
    "\n",
    "WSTART=$((START-$WINDOW))\n",
    "WEND=$((START+$WINDOW))\n",
    "\n",
    "# Extract haplotypes - risk haplotype SNPs\n",
    "echo \"Extracting haplotypes\"\n",
    "bcftools query -r ${CHROM}:${WSTART}-${WEND} \\\n",
    "     -f \"%ID\\t%POS\\t%REF\\t%ALT\\t[%GT\\t]\\n\" \\\n",
    "     $VCF | \\\n",
    "     grep -f snplist.txt | \\\n",
    "     awk '(length($3)==1)' | sed 's/|/\\t/g' > haplotypes_${LOCUS}_risk.tab\n",
    "bcftools query -r ${CHROM}:${START}-${START} \\\n",
    "    -f \"%ID\\t%POS\\t%REF\\t%ALT\\t[%GT\\t]\\n\" ${VCF} | \\\n",
    "    awk -v\"start=$START\" '($2==start)' | \\\n",
    "    sed 's/|/\\t/g' >> haplotypes_${LOCUS}_risk.tab"
   ]
  },
  {
   "cell_type": "code",
   "execution_count": 89,
   "metadata": {
    "collapsed": false
   },
   "outputs": [],
   "source": [
    "# Read in haplotypes\n",
    "numhaps = 1916*2\n",
    "colnames = [\"id\",\"pos\",\"ref\",\"alt\"] + [\"hap_%s\"%i for i in range(numhaps)]\n",
    "haplotypes = pd.read_csv(\"haplotypes_%s_risk.tab\"%locus, sep=\"\\t\",\n",
    "                        names=colnames, usecols=range(len(colnames)))\n",
    "haplotypes[\"vartype\"] = haplotypes.apply(lambda x: [\"SNP\",\"STR\"][int(len(x[\"ref\"])>1)], 1)\n",
    "haplotypes.index = haplotypes[\"id\"]\n",
    "\n",
    "strind = haplotypes[haplotypes[\"vartype\"]==\"STR\"].index.values[0]\n",
    "# Annotate STR lengths\n",
    "ref = haplotypes[haplotypes[\"vartype\"]==\"STR\"][\"ref\"].values[0]\n",
    "alt = haplotypes[haplotypes[\"vartype\"]==\"STR\"][\"alt\"].values[0].split(\",\")\n",
    "str_allele_lengths = [len(ref)] + [len(item) for item in alt]\n",
    "str_allele_lengths = [item-len(ref) for item in str_allele_lengths]\n",
    "for i in range(numhaps):\n",
    "    col = \"hap_%s\"%i\n",
    "    gtlen = str_allele_lengths[int(haplotypes[haplotypes[\"vartype\"]==\"STR\"][col].values[0])]\n",
    "    haplotypes.loc[strind, col] = gtlen"
   ]
  },
  {
   "cell_type": "code",
   "execution_count": 90,
   "metadata": {
    "collapsed": false
   },
   "outputs": [],
   "source": [
    "risk_alleles = dict(zip(RSIDS,RISKALLELES))\n",
    "risk_alleles_binary = {}\n",
    "for rsid in RSIDS:\n",
    "    ref = haplotypes.loc[rsid,\"ref\"]\n",
    "    alt = haplotypes.loc[rsid,\"alt\"]\n",
    "    if ref == risk_alleles[rsid]: risk_alleles_binary[rsid] = 0\n",
    "    elif alt == risk_alleles[rsid]: risk_alleles_binary[rsid] = 1\n",
    "    else: print(\"Error %s\"%rsid)"
   ]
  },
  {
   "cell_type": "code",
   "execution_count": 91,
   "metadata": {
    "collapsed": false
   },
   "outputs": [],
   "source": [
    "hapdists = [] # dist from risk haplotype\n",
    "strlens = []\n",
    "hap = []\n",
    "for col in haplotypes.columns:\n",
    "    if \"hap\" not in col: continue\n",
    "    dist = 0\n",
    "    for rs in RSIDS:\n",
    "        val = haplotypes.loc[rs, col]\n",
    "        if val != risk_alleles_binary[rs]:\n",
    "            dist += 1\n",
    "    hapdists.append(dist)\n",
    "    strlens.append(haplotypes.loc[strind,col])\n",
    "    hap.append(col)\n",
    "hdata = pd.DataFrame({\"strlen\": strlens, \"hapdists\": hapdists, \"hap\":hap})"
   ]
  },
  {
   "cell_type": "code",
   "execution_count": 98,
   "metadata": {
    "collapsed": false
   },
   "outputs": [
    {
     "name": "stderr",
     "output_type": "stream",
     "text": [
      "/usr/lib/python3.4/site-packages/seaborn/categorical.py:588: FutureWarning: remove_na is deprecated and is a private function. Do not use.\n",
      "  kde_data = remove_na(group_data)\n",
      "/usr/lib/python3.4/site-packages/seaborn/categorical.py:816: FutureWarning: remove_na is deprecated and is a private function. Do not use.\n",
      "  violin_data = remove_na(group_data)\n"
     ]
    },
    {
     "name": "stdout",
     "output_type": "stream",
     "text": [
      "(-0.7892188013975399, 0.0)\n"
     ]
    },
    {
     "data": {
      "image/png": "[encoded data removed]",
      "text/plain": [
       "<matplotlib.figure.Figure at 0x7f452d51f470>"
      ]
     },
     "metadata": {},
     "output_type": "display_data"
    }
   ],
   "source": [
    "sns.set_style(\"white\")\n",
    "fig = plt.figure()\n",
    "fig.set_size_inches((10, 5))\n",
    "ax = fig.add_subplot(111)\n",
    "ax = sns.violinplot(x=\"hapdists\", y=\"strlen\", data=hdata,  whis=np.inf, inner=\"box\", color=\"white\")\n",
    "ax.spines['right'].set_visible(False)\n",
    "ax.spines['top'].set_visible(False)\n",
    "ax.yaxis.set_ticks_position('left')\n",
    "ax.xaxis.set_ticks_position('bottom')\n",
    "ax.set_xlabel(\"Hamming distance from risk haplotype (Veneziano et al.)\", size=20)\n",
    "ax.set_ylabel(\"Number of CAG repeats\", size=20)\n",
    "ax.set_xticklabels(ax.get_xticks(), size=15)\n",
    "ax.set_yticks(np.arange(-33, 34, 6))\n",
    "ax.set_yticklabels([int(19+item/3) for item in ax.get_yticks()], size=15);\n",
    "print(scipy.stats.pearsonr(hdata[\"strlen\"],hdata[\"hapdists\"]))\n",
    "fig.savefig(os.path.join(OUTPATH, \"%s_RiskHaplotype.pdf\"%PREFIX))"
   ]
  }
 ],
 "metadata": {
  "kernelspec": {
   "display_name": "Python 3",
   "language": "python",
   "name": "python3"
  },
  "language_info": {
   "codemirror_mode": {
    "name": "ipython",
    "version": 3
   },
   "file_extension": ".py",
   "mimetype": "text/x-python",
   "name": "python",
   "nbconvert_exporter": "python",
   "pygments_lexer": "ipython3",
   "version": "3.4.5"
  }
 },
 "nbformat": 4,
 "nbformat_minor": 2
}
