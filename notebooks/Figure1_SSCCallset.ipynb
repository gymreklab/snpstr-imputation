{
 "cells": [
  {
   "cell_type": "code",
   "execution_count": 1,
   "metadata": {
    "collapsed": false
   },
   "outputs": [
    {
     "name": "stdout",
     "output_type": "stream",
     "text": [
      "Populating the interactive namespace from numpy and matplotlib\n"
     ]
    },
    {
     "name": "stderr",
     "output_type": "stream",
     "text": [
      "/usr/lib/python3.4/site-packages/IPython/core/interactiveshell.py:2785: DtypeWarning: Columns (0) have mixed types. Specify dtype option on import or set low_memory=False.\n",
      "  interactivity=interactivity, compiler=compiler, result=result)\n"
     ]
    }
   ],
   "source": [
    "%pylab inline\n",
    "\n",
    "# Allow us to edit fonts in Illustrator\n",
    "import matplotlib\n",
    "matplotlib.rcParams['ps.useafm'] = True\n",
    "matplotlib.rcParams['pdf.use14corefonts'] = True\n",
    "matplotlib.rcParams['text.usetex'] = True\n",
    "\n",
    "# Libraries\n",
    "import matplotlib.pyplot as plt\n",
    "import numpy as np\n",
    "import os\n",
    "import pandas as pd\n",
    "from matplotlib.patches import Polygon\n",
    "import scipy.stats\n",
    "import seaborn as sns\n",
    "sns.set_style(\"white\")\n",
    "from matplotlib.colors import LogNorm\n",
    "import vcf\n",
    "\n",
    "HIPREF=\"/storage/resources/dbase/human/hs37d5/GRCh37.hipstr_reference.bed\"\n",
    "DATAPATH=\"/storage/mgymrek/ssc-imputation/callstats/\"\n",
    "PCAFILE=\"/storage/s1saini/ssc-pca/pca_10.eigenvec\"\n",
    "ONEKGPOP=\"/storage/s1saini/ssc-pca/1000GenomesPopulations.csv\"\n",
    "SSCFAMS=\"/storage/s1saini/ssc-pca/ssc_family_ids.txt\"\n",
    "POPCOLORS = {\n",
    "    \"EUR\": \"green\",\n",
    "    \"AFR\": \"red\",\n",
    "    \"EAS\": \"orange\",\n",
    "    \"SAS\": \"purple\"\n",
    "}\n",
    "\n",
    "OUTPATH=\"pdfs/\"\n",
    "\n",
    "colors = [\"gray\",\"red\",\"gold\",\"blue\",\"green\",\"purple\"]\n",
    "\n",
    "hipstr = pd.read_csv(HIPREF, sep=\"\\t\", names=[\"chrom\",\"start\",\"end\",\"period\",\"score\",\"name\"])\n",
    "hipstr = hipstr[hipstr[\"chrom\"].apply(lambda x: x not in [\"X\",\"Y\"])]\n",
    "hipstr[\"chrom\"] = hipstr[\"chrom\"].apply(str)\n",
    "\n",
    "MINLOB = 500 # Min number of 1000G calls to include in heterozygosity comparison\n",
    "NUMSAMPLES=1916"
   ]
  },
  {
   "cell_type": "markdown",
   "metadata": {},
   "source": [
    "# Load info"
   ]
  },
  {
   "cell_type": "code",
   "execution_count": 2,
   "metadata": {
    "collapsed": false
   },
   "outputs": [],
   "source": [
    "locstats = pd.read_csv(os.path.join(DATAPATH, \"ssc_hipstr_locstats.tab\"), sep=\"\\t\")\n",
    "locstats[\"chrom\"] = locstats[\"chrom\"].apply(str)\n",
    "locstats[\"length\"] = locstats[\"end\"]-locstats[\"start\"]+1"
   ]
  },
  {
   "cell_type": "code",
   "execution_count": 3,
   "metadata": {
    "collapsed": false
   },
   "outputs": [],
   "source": [
    "sampstats = pd.read_fwf(os.path.join(DATAPATH, \"ssc_hipstr_sampstats.tab\"), names=[\"numloci\",\"sample\"])\n",
    "sampstats = sampstats.groupby(\"sample\", as_index=False).agg({\"numloci\": np.sum})"
   ]
  },
  {
   "cell_type": "code",
   "execution_count": 4,
   "metadata": {
    "collapsed": false
   },
   "outputs": [],
   "source": [
    "mend = pd.read_csv(os.path.join(DATAPATH, \"ssc_hipstr_mendstats.tab\"), sep=\"\\t\", nrows=1000000)\n",
    "mend[\"mend\"] = mend[\"mend\"].apply(int)\n",
    "mend[\"chrom\"] = mend[\"chrom\"].apply(str)\n",
    "mend = pd.merge(mend, hipstr, on=[\"chrom\",\"start\"])\n",
    "mend = mend[~mend[\"homref\"]]\n",
    "mend = pd.merge(mend, locstats[[\"chrom\",\"start\",\"end\",\"FILTER\"]], on=[\"chrom\",\"start\"])"
   ]
  },
  {
   "cell_type": "markdown",
   "metadata": {},
   "source": [
    "# Figure 1B: Calls/sample"
   ]
  },
  {
   "cell_type": "code",
   "execution_count": 5,
   "metadata": {
    "collapsed": false
   },
   "outputs": [
    {
     "data": {
      "image/png": "[encoded data removed]",
      "text/plain": [
       "<Figure size 432x288 with 1 Axes>"
      ]
     },
     "metadata": {},
     "output_type": "display_data"
    }
   ],
   "source": [
    "fig = plt.figure()\n",
    "ax = fig.add_subplot(111)\n",
    "ax.hist(sampstats[\"numloci\"], color=\"black\", edgecolor=\"white\", bins=25, alpha=0.5, label='_nolegend_');\n",
    "ax.spines['right'].set_visible(False)\n",
    "ax.spines['top'].set_visible(False)\n",
    "ax.yaxis.set_ticks_position('left')\n",
    "ax.xaxis.set_ticks_position('bottom')\n",
    "ax.set_xlabel(\"Number of loci (million)\", size=15)\n",
    "ax.set_ylabel(\"Number of samples\", size=15)\n",
    "ax.set_xticklabels([(x)/10**6 for x in ax.get_xticks()], size=12)\n",
    "ax.set_yticklabels([int(x) for x in ax.get_yticks()], size=12);\n",
    "ax.axvline(x=np.mean(sampstats[\"numloci\"]), color=\"black\", linestyle=\"dashed\", label=\"Average\")\n",
    "legend = ax.legend(loc='upper left')\n",
    "fig.savefig(os.path.join(OUTPATH, \"Figure1_LociPerSample.pdf\"))"
   ]
  },
  {
   "cell_type": "code",
   "execution_count": 6,
   "metadata": {
    "collapsed": false
   },
   "outputs": [
    {
     "data": {
      "text/plain": [
       "1136915.9185803758"
      ]
     },
     "execution_count": 6,
     "metadata": {},
     "output_type": "execute_result"
    }
   ],
   "source": [
    "# Average calls/sample\n",
    "np.mean(sampstats[\"numloci\"])"
   ]
  },
  {
   "cell_type": "markdown",
   "metadata": {},
   "source": [
    "# Figure 1C: Call rate per locus"
   ]
  },
  {
   "cell_type": "code",
   "execution_count": 7,
   "metadata": {
    "collapsed": false
   },
   "outputs": [
    {
     "name": "stderr",
     "output_type": "stream",
     "text": [
      "/usr/lib/python3.4/site-packages/ipykernel/__main__.py:2: DeprecationWarning: \n",
      ".ix is deprecated. Please use\n",
      ".loc for label based indexing or\n",
      ".iloc for positional indexing\n",
      "\n",
      "See the documentation here:\n",
      "http://pandas.pydata.org/pandas-docs/stable/indexing.html#ix-indexer-is-deprecated\n",
      "  from ipykernel import kernelapp as app\n"
     ]
    }
   ],
   "source": [
    "locstats_all = pd.merge(hipstr, locstats, on=[\"chrom\",\"start\",\"end\",\"period\"], how=\"left\")\n",
    "locstats_all.ix[np.isnan(locstats_all[\"numcalls\"]), \"numcalls\"] = 0\n",
    "counts, bins = np.histogram(locstats[\"numcalls\"], bins=25)"
   ]
  },
  {
   "cell_type": "code",
   "execution_count": 8,
   "metadata": {
    "collapsed": false
   },
   "outputs": [
    {
     "data": {
      "image/png": "[encoded data removed]",
      "text/plain": [
       "<Figure size 432x288 with 1 Axes>"
      ]
     },
     "metadata": {},
     "output_type": "display_data"
    }
   ],
   "source": [
    "fig = plt.figure()\n",
    "ax = fig.add_subplot(111)\n",
    "# Merge with hipstr reference so we get loci with 0 calls\n",
    "ax.bar(bins[:-1], np.log10(counts), color=\"black\", width=(bins[1]-bins[0])/1.15, edgecolor=\"white\", alpha=0.5, label='_nolegend_');\n",
    "ax.set_ylim(bottom=3.5, top=6);\n",
    "ax.spines['right'].set_visible(False)\n",
    "ax.spines['top'].set_visible(False)\n",
    "ax.yaxis.set_ticks_position('left')\n",
    "ax.xaxis.set_ticks_position('bottom')\n",
    "ax.set_xlabel(\"Number of samples\", size=15)\n",
    "ax.set_ylabel(\"Number of loci\", size=15)\n",
    "ax.set_xticklabels([int(x) for x in ax.get_xticks()], size=12)\n",
    "ax.set_yticklabels([int(x) for x in ax.get_yticks()], size=12);\n",
    "ax.axvline(np.mean(locstats[\"numcalls\"]), color=\"black\", linestyle=\"dashed\", label=\"Average\")\n",
    "legend = ax.legend(loc='upper left')\n",
    "fig.savefig(os.path.join(OUTPATH, \"Figure1_SamplesPerLocus.pdf\"))"
   ]
  },
  {
   "cell_type": "code",
   "execution_count": 9,
   "metadata": {
    "collapsed": false
   },
   "outputs": [
    {
     "data": {
      "text/plain": [
       "0.9672751846967255"
      ]
     },
     "execution_count": 9,
     "metadata": {},
     "output_type": "execute_result"
    }
   ],
   "source": [
    "# Overall call rate\n",
    "1-locstats_all[locstats_all[\"numcalls\"]==0].shape[0]/locstats_all.shape[0]"
   ]
  },
  {
   "cell_type": "code",
   "execution_count": 10,
   "metadata": {
    "collapsed": false
   },
   "outputs": [
    {
     "data": {
      "text/plain": [
       "0.9037484045372617"
      ]
     },
     "execution_count": 10,
     "metadata": {},
     "output_type": "execute_result"
    }
   ],
   "source": [
    "# Average call rate\n",
    "np.mean(locstats[\"numcalls\"])/NUMSAMPLES"
   ]
  },
  {
   "cell_type": "code",
   "execution_count": 11,
   "metadata": {
    "collapsed": false
   },
   "outputs": [
    {
     "data": {
      "text/plain": [
       "453671"
      ]
     },
     "execution_count": 11,
     "metadata": {},
     "output_type": "execute_result"
    }
   ],
   "source": [
    "# Loci remaining after filtering\n",
    "locstats[locstats[\"FILTER\"]==\".\"].shape[0]"
   ]
  },
  {
   "cell_type": "markdown",
   "metadata": {},
   "source": [
    "# Figure 1D: Mendelian inheritance"
   ]
  },
  {
   "cell_type": "code",
   "execution_count": 12,
   "metadata": {
    "collapsed": false
   },
   "outputs": [
    {
     "data": {
      "image/png": "[encoded data removed]",
      "text/plain": [
       "<Figure size 432x288 with 1 Axes>"
      ]
     },
     "metadata": {},
     "output_type": "display_data"
    }
   ],
   "source": [
    "# Mendelian inheritance vs. qual\n",
    "fig = plt.figure()\n",
    "ax = fig.add_subplot(111)\n",
    "scores = np.arange(0.9, 1.1, 0.01)\n",
    "\n",
    "mend_pass = mend[(mend[\"FILTER\"]==\".\")]\n",
    "mend_fail = mend[(mend[\"FILTER\"]!=\".\")]\n",
    "\n",
    "for period in range(1, 7):\n",
    "    mend_scores_pass = []\n",
    "    mend_scores_fail = []\n",
    "    for q in scores:\n",
    "        x_pass = mend_pass[(mend_pass[\"Q\"]>=q) & (mend_pass[\"period\"]==period)]\n",
    "        if x_pass.shape[0] >= 50:\n",
    "            mend_scores_pass.append(np.mean(x_pass[\"mend\"]))\n",
    "        else: mend_scores_pass.append(np.nan)\n",
    "        x_fail = mend_fail[(mend_fail[\"Q\"]>=q) & (mend_fail[\"period\"]==period)]\n",
    "        if x_fail.shape[0] >= 50:\n",
    "            mend_scores_fail.append(np.mean(x_fail[\"mend\"]))\n",
    "        else: mend_scores_fail.append(np.nan)\n",
    "    ax.plot(scores, mend_scores_pass, color=colors[period-1], marker=\"o\");\n",
    "    ax.plot(scores, mend_scores_fail, color=colors[period-1], linestyle=\"dashed\");\n",
    "    \n",
    "ax.spines['right'].set_visible(False)\n",
    "ax.spines['top'].set_visible(False)\n",
    "ax.yaxis.set_ticks_position('left')\n",
    "ax.xaxis.set_ticks_position('bottom')\n",
    "ax.set_xlabel(\"Q threshold\", size=15)\n",
    "ax.set_ylabel(\"Mendelian inheritance rate\", size=15)\n",
    "ax.set_xticklabels([\"%.2f\"%(x) for x in ax.get_xticks()], size=12)\n",
    "ax.set_yticklabels([\"%.3f\"%(x) for x in ax.get_yticks()], size=12);\n",
    "fig.savefig(os.path.join(OUTPATH, \"Figure1_MendelianInheritance.pdf\"))"
   ]
  },
  {
   "cell_type": "code",
   "execution_count": 13,
   "metadata": {
    "collapsed": false
   },
   "outputs": [
    {
     "data": {
      "text/plain": [
       "0.9786428030248882"
      ]
     },
     "execution_count": 13,
     "metadata": {},
     "output_type": "execute_result"
    }
   ],
   "source": [
    "# Average Mend. inheritance before filtering \n",
    "np.mean(mend_fail[\"mend\"])"
   ]
  },
  {
   "cell_type": "code",
   "execution_count": 14,
   "metadata": {
    "collapsed": false
   },
   "outputs": [
    {
     "data": {
      "text/plain": [
       "0.9978261339015138"
      ]
     },
     "execution_count": 14,
     "metadata": {},
     "output_type": "execute_result"
    }
   ],
   "source": [
    "# Average Mend. inheritance after filtering \n",
    "np.mean(mend_pass[\"mend\"])"
   ]
  },
  {
   "cell_type": "markdown",
   "metadata": {},
   "source": [
    "# Figure 1E: Comparison to lobSTR heterozygosities"
   ]
  },
  {
   "cell_type": "code",
   "execution_count": 15,
   "metadata": {
    "collapsed": false
   },
   "outputs": [],
   "source": [
    "lobstr = pd.read_csv(os.path.join(DATAPATH, \"lobstr_het_stats.tab\"), sep=\"\\t\", names=[\"chrom\",\"start\",\"het_lobstr\",\"numcalls\"])\n",
    "lobstr[\"chrom\"] = lobstr[\"chrom\"].apply(lambda x: str(x[3:]))\n",
    "lobstr = lobstr[lobstr[\"numcalls\"]>=MINLOB]\n",
    "het = pd.merge(lobstr, locstats[[\"chrom\",\"start\",\"het\",\"FILTER\"]], on=[\"chrom\",\"start\"])\n",
    "het = het[(het[\"FILTER\"]==\".\") | (het[\"FILTER\"]==\"Het\")]"
   ]
  },
  {
   "cell_type": "code",
   "execution_count": 16,
   "metadata": {
    "collapsed": false
   },
   "outputs": [
    {
     "data": {
      "image/png": "[encoded data removed]",
      "text/plain": [
       "<Figure size 432x288 with 2 Axes>"
      ]
     },
     "metadata": {},
     "output_type": "display_data"
    }
   ],
   "source": [
    "x = het[het[\"het\"]>0.095][\"het_lobstr\"]\n",
    "y = het[het[\"het\"]>0.095][\"het\"]\n",
    "plt.hist2d(x, y, bins=50, norm=LogNorm(), cmap=plt.cm.jet)\n",
    "plt.colorbar()\n",
    "plt.xlabel(\"Heterozygosity - 1000G\")\n",
    "plt.ylabel(\"Heterozygosity - SSC\")\n",
    "plt.savefig(os.path.join(OUTPATH, \"Figure1_Heterozygosities.pdf\"));"
   ]
  },
  {
   "cell_type": "code",
   "execution_count": 17,
   "metadata": {
    "collapsed": false
   },
   "outputs": [
    {
     "name": "stdout",
     "output_type": "stream",
     "text": [
      "0.955498900847542\t0.0\t386100\n"
     ]
    }
   ],
   "source": [
    "# Correlation with lobSTR heterozygosities\n",
    "r, p = scipy.stats.pearsonr(het[\"het_lobstr\"], het[\"het\"])\n",
    "print(\"\\t\".join([str(item) for item in [r, p, het.shape[0]]]))"
   ]
  },
  {
   "cell_type": "markdown",
   "metadata": {},
   "source": [
    "# Supplemental Figure: SSC Populations"
   ]
  },
  {
   "cell_type": "code",
   "execution_count": 18,
   "metadata": {
    "collapsed": false
   },
   "outputs": [
    {
     "name": "stderr",
     "output_type": "stream",
     "text": [
      "/usr/lib/python3.4/site-packages/ipykernel/__main__.py:26: SettingWithCopyWarning: \n",
      "A value is trying to be set on a copy of a slice from a DataFrame.\n",
      "Try using .loc[row_indexer,col_indexer] = value instead\n",
      "\n",
      "See the caveats in the documentation: http://pandas.pydata.org/pandas-docs/stable/indexing.html#indexing-view-versus-copy\n",
      "/usr/lib/python3.4/site-packages/ipykernel/__main__.py:62: DeprecationWarning: \n",
      ".ix is deprecated. Please use\n",
      ".loc for label based indexing or\n",
      ".iloc for positional indexing\n",
      "\n",
      "See the documentation here:\n",
      "http://pandas.pydata.org/pandas-docs/stable/indexing.html#ix-indexer-is-deprecated\n"
     ]
    },
    {
     "data": {
      "image/png": "[encoded data removed]",
      "text/plain": [
       "<Figure size 432x288 with 1 Axes>"
      ]
     },
     "metadata": {},
     "output_type": "display_data"
    }
   ],
   "source": [
    "import matplotlib.patches as patches\n",
    "\n",
    "# Load PCA results\n",
    "pca = pd.read_csv(PCAFILE, sep=\" \",\n",
    "                 names=[\"sample\",\"sample2\"]+[\"pc%s\"%i for i in range(1,11)])\n",
    "# Load 1kg population labels\n",
    "onekg = pd.read_csv(ONEKGPOP)\n",
    "\n",
    "# Load pedigree info\n",
    "ped = pd.read_csv(SSCFAMS, sep=\"\\t\", names=[\"id\",\"sample\"])\n",
    "ped[\"family\"] = ped[\"id\"].apply(lambda x: x.split(\".\")[0])\n",
    "ped[\"rel\"] = ped[\"id\"].apply(lambda x: x.split(\".\")[1])\n",
    "\n",
    "# Merge final data\n",
    "data = pd.merge(pca, onekg, on=\"sample\", how=\"left\")\n",
    "data = pd.merge(data, ped[[\"family\",\"rel\",\"sample\"]], on=\"sample\", how=\"left\")\n",
    "\n",
    "# Plot PCA to get boundaries\n",
    "POPCOLORS = {\n",
    "    \"EUR\": \"green\",\n",
    "    \"AFR\": \"red\",\n",
    "    \"EAS\": \"orange\",\n",
    "    \"SAS\": \"purple\"\n",
    "}\n",
    "refdata = data[(data[\"Population\"].apply(lambda x: str(x) != \"nan\"))]\n",
    "refdata[\"color\"] = refdata.apply(lambda x: POPCOLORS.get(x[\"Superpop\"],\"gray\"), 1)\n",
    "ssc = data[(data[\"Population\"].apply(lambda x: str(x) == \"nan\"))]\n",
    "ssc = pd.merge(ssc, sampstats, on=[\"sample\"])\n",
    "ssc[\"Superpop\"] = \"NA\"\n",
    "fig = plt.figure()\n",
    "ax = fig.add_subplot(111)\n",
    "ax.scatter(ssc[\"pc1\"], ssc[\"pc2\"], color=\"black\", s=2);\n",
    "ax.scatter(refdata[\"pc1\"], refdata[\"pc2\"], color=list(refdata[\"color\"]), s=5);\n",
    "ax.set_xlabel(\"PC1\", size=15)\n",
    "ax.set_ylabel(\"PC2\", size=15);\n",
    "\n",
    "# Get population boundaries\n",
    "for popname in [\"EAS\",\"AFR\",\"SAS\",\"EUR\"]:\n",
    "    pop = refdata[refdata[\"Superpop\"]==popname]\n",
    "    max_pc1 = max(pop[\"pc1\"])\n",
    "    min_pc1 = min(pop[\"pc1\"])\n",
    "    max_pc2 = max(pop[\"pc2\"])\n",
    "    min_pc2 = min(pop[\"pc2\"])\n",
    "    if popname == \"EUR\":\n",
    "        max_pc1 = 0.005\n",
    "        min_pc2 = -0.02\n",
    "        max_pc2 = 0.007\n",
    "    if popname == \"AFR\":\n",
    "        min_pc2 = -0.03\n",
    "        max_pc2 = 0.02\n",
    "    if popname == \"SAS\":\n",
    "        max_pc2 = 0.06\n",
    "        min_pc1 = -0.01\n",
    "        max_pc1 = 0.005\n",
    "        min_Pc2 = 0.008\n",
    "    if popname == \"EAS\":\n",
    "        min_pc2 = 0.061\n",
    "        max_pc2 = 0.1\n",
    "        max_pc1 = 0.01\n",
    "    ssc_pop = ssc[(ssc[\"pc1\"]>=min_pc1) & (ssc[\"pc1\"]<=max_pc1) &\n",
    "                 (ssc[\"pc2\"]>=min_pc2) & (ssc[\"pc2\"]<=max_pc2)]\n",
    "    ssc.ix[ssc[\"sample\"].apply(lambda x: x in ssc_pop[\"sample\"].values),\"Superpop\"] = popname\n",
    "    ax.add_patch(\n",
    "        patches.Rectangle(\n",
    "        (min_pc1, min_pc2),\n",
    "        max_pc1-min_pc1,\n",
    "        max_pc2-min_pc2,\n",
    "        fill=False\n",
    "        ))\n",
    "ax.spines['right'].set_visible(False)\n",
    "ax.spines['top'].set_visible(False)\n",
    "ax.yaxis.set_ticks_position('left')\n",
    "ax.xaxis.set_ticks_position('bottom')\n",
    "ax.set_xlabel(\"PC1\", size=15)\n",
    "ax.set_ylabel(\"PC2\", size=15)\n",
    "ax.set_xticklabels([\"%.2f\"%x for x in ax.get_xticks()], size=12);\n",
    "ax.set_yticklabels([\"%.2f\"%x for x in ax.get_yticks()], size=12);\n",
    "fig.savefig(os.path.join(OUTPATH, \"SuppFig_PopPCA.pdf\"));"
   ]
  },
  {
   "cell_type": "code",
   "execution_count": 19,
   "metadata": {
    "collapsed": false
   },
   "outputs": [
    {
     "data": {
      "text/html": [
       "<div>\n",
       "<style scoped>\n",
       "    .dataframe tbody tr th:only-of-type {\n",
       "        vertical-align: middle;\n",
       "    }\n",
       "\n",
       "    .dataframe tbody tr th {\n",
       "        vertical-align: top;\n",
       "    }\n",
       "\n",
       "    .dataframe thead th {\n",
       "        text-align: right;\n",
       "    }\n",
       "</style>\n",
       "<table border=\"1\" class=\"dataframe\">\n",
       "  <thead>\n",
       "    <tr style=\"text-align: right;\">\n",
       "      <th></th>\n",
       "      <th>Superpop</th>\n",
       "      <th>sample</th>\n",
       "      <th>perc</th>\n",
       "    </tr>\n",
       "  </thead>\n",
       "  <tbody>\n",
       "    <tr>\n",
       "      <th>0</th>\n",
       "      <td>AFR</td>\n",
       "      <td>69</td>\n",
       "      <td>0.036013</td>\n",
       "    </tr>\n",
       "    <tr>\n",
       "      <th>1</th>\n",
       "      <td>EAS</td>\n",
       "      <td>39</td>\n",
       "      <td>0.020355</td>\n",
       "    </tr>\n",
       "    <tr>\n",
       "      <th>2</th>\n",
       "      <td>EUR</td>\n",
       "      <td>1585</td>\n",
       "      <td>0.827244</td>\n",
       "    </tr>\n",
       "    <tr>\n",
       "      <th>3</th>\n",
       "      <td>NA</td>\n",
       "      <td>51</td>\n",
       "      <td>0.026618</td>\n",
       "    </tr>\n",
       "    <tr>\n",
       "      <th>4</th>\n",
       "      <td>SAS</td>\n",
       "      <td>172</td>\n",
       "      <td>0.089770</td>\n",
       "    </tr>\n",
       "  </tbody>\n",
       "</table>\n",
       "</div>"
      ],
      "text/plain": [
       "  Superpop  sample      perc\n",
       "0      AFR      69  0.036013\n",
       "1      EAS      39  0.020355\n",
       "2      EUR    1585  0.827244\n",
       "3       NA      51  0.026618\n",
       "4      SAS     172  0.089770"
      ]
     },
     "execution_count": 19,
     "metadata": {},
     "output_type": "execute_result"
    }
   ],
   "source": [
    "# Get count by population group\n",
    "y = ssc.groupby(\"Superpop\", as_index=False).agg({\"sample\": len})\n",
    "y[\"perc\"] = y[\"sample\"].apply(lambda x: x*1.0/sum(y[\"sample\"]))\n",
    "y"
   ]
  },
  {
   "cell_type": "markdown",
   "metadata": {},
   "source": [
    "# Tredparse calls"
   ]
  },
  {
   "cell_type": "code",
   "execution_count": 20,
   "metadata": {
    "collapsed": false
   },
   "outputs": [
    {
     "name": "stdout",
     "output_type": "stream",
     "text": [
      "DRPLA 45\n",
      "SCA2 69\n",
      "SCA8 45\n",
      "HPE5 45\n",
      "SCA3 24\n",
      "HDL 42\n",
      "SCA6 39\n",
      "DM1 60\n",
      "HD 57\n",
      "SCA1 87\n",
      "CCD 51\n",
      "SCA17 114\n",
      "EIEE1 30\n",
      "SBMA 66\n",
      "AR 66\n",
      "FXTAS 60\n",
      "FXS 60\n",
      "FRAXE 45\n",
      "SCA12 30\n",
      "SCA7 30\n",
      "SD5 45\n",
      "HFG 42\n"
     ]
    }
   ],
   "source": [
    "hipstr_to_tp_id = {\"Expansion_ATN1/DRPLA\":\"DRPLA\",\n",
    "\"Expansion_SCA2/ATXN2\":\"SCA2\",\n",
    "\"Expansion_SCA8/ATXN8\":\"SCA8\",\n",
    "\"Expansion_SCA3_MJD/ATXN3\":\"SCA3\",\n",
    "\"Expansion_HDL2/JPH3\":\"HDL\",\n",
    "\"Expansion_DM1/DMPK\":\"DM1\",\n",
    "\"Expansion_SCA1/ATXN1\":\"SCA1\",\n",
    "\"Expansion_SCA12/PPP2R2B\":\"SCA12\",\n",
    "\"Expansion_SCA7/ATXN7\":\"SCA7\"}\n",
    "\n",
    "hipstr_loci = [('12', 7045880),\n",
    "('12', 112036754),\n",
    "('13', 70713484),\n",
    "('14', 92537353),\n",
    "('16', 87637889),\n",
    "('19', 46273457),\n",
    "('6', 16327865),\n",
    "('5', 146258291),\n",
    "('3', 63898361)]\n",
    "\n",
    "def returnAFDF(locus, algo, af):\n",
    "    return pd.DataFrame({'locus':[locus]*len(af), 'algorithm':[algo]*len(af), 'allele':af})\n",
    "\n",
    "afData = pd.DataFrame()\n",
    "\n",
    "vcf_reader = vcf.Reader(filename='/storage/s1saini/manuscript_strsnp/fig3/tredparse_calls/tredparse.output_gt.vcf.gz')\n",
    "for record in vcf_reader:\n",
    "    print(record.ID, len(record.REF))\n",
    "    allele_list = []\n",
    "    num_called = (record.num_called)\n",
    "    aaf = dict(zip([len(x) for x in record.ALT],record.aaf))\n",
    "    aaf[len(record.REF)] = 1-np.sum(record.aaf)\n",
    "    for x in aaf:\n",
    "        allele_list = allele_list + [x-len(record.REF)]*int(aaf[x]*num_called*2)\n",
    "    afData = pd.concat([afData, returnAFDF(record.ID, \"TredParse\", allele_list)])\n",
    "    \n",
    "\n",
    "for hip_locus in hipstr_loci:\n",
    "    file = '/storage/s1saini/hipstr_rerun/chr'+hip_locus[0]+'/hipstr.chr'+hip_locus[0]+'.with.1kg.filtered.vcf.gz'\n",
    "    vcf_reader = vcf.Reader(filename=file)\n",
    "    for record in vcf_reader.fetch(hip_locus[0], hip_locus[1]-1, hip_locus[1]+1):\n",
    "        allele_list = []\n",
    "        num_called = (record.num_called)\n",
    "        aaf = dict(zip([len(x) for x in record.ALT],record.aaf))\n",
    "        aaf[len(record.REF)] = 1-np.sum(record.aaf)\n",
    "        for x in aaf:\n",
    "            allele_list = allele_list + [x-len(record.REF)]*int(aaf[x]*num_called*2)\n",
    "        afData = pd.concat([afData, returnAFDF(hipstr_to_tp_id[record.ID], \"HipSTR\", allele_list)])"
   ]
  },
  {
   "cell_type": "code",
   "execution_count": 21,
   "metadata": {
    "collapsed": true
   },
   "outputs": [],
   "source": [
    "## https://www.sciencedirect.com/science/article/pii/S0304394007010518\n",
    "control_size = 307\n",
    "cag_size = 3\n",
    "\n",
    "control_sca1 = [29]*int(0.06*307) + [30]*int(0.31*307) + [31]*int(0.37*307) + [32]*int(0.09*307) + [33]*int(0.09*307) + [34]*int(0.03*307) + [35]*int(0.02*307)\n",
    "control_sca2 = [22]*int(0.89*307) + [23]*int(0.09*307)\n",
    "control_sca3 = [14]*int(0.24*307) + [20]*int(0.06*307) + [21]*int(0.09*307) + [22]*int(0.02*307) + [23]*int(0.26*307) + [24]*int(0.06*307) + [26]*int(0.02*307) + [27]*int(0.16*307) + [28]*int(0.04*307) \n",
    "control_sca6 = [7]*int(0.075*307) + [11]*int(0.37*307) + [12]*int(0.19*307) + [13]*int(0.32*307) + [14]*int(0.04*307)\n",
    "#control_sca4 = [10]*int(0.76*307) + [11]*int(0.04*307) + [12]*int(0.14*307) + [13]*int(0.06*307)\n",
    "#control_sca10 = [10]*int(0.02*307) + [11]*int(0.09*307) + [12]*int(0.27*307) + [13]*int(0.29*307) + [14]*int(0.16*307) + [15]*int(0.08*307) + [16]*int(0.05*307) + [17]*int(0.02*307) + [18]*int(0.02*307)\n",
    "control_sca12 = [9]*int(0.02*307) + [10]*int(0.59*307) + [11]*int(0.01*307)  + [13]*int(0.11*307) + [14]*int(0.09*307) + [15]*int(0.15*307) + [16]*int(0.01*307) + [18]*int(0.02*307)\n",
    "control_sca17 = [30]*int(0.02*307) + [33]*int(0.06*307) + [34]*int(0.15*307)  + [35]*int(0.26*307) + [36]*int(0.41*307) + [37]*int(0.06*307) + [38]*int(0.01*307)\n",
    "control_sca8 = [18]*int(0.16*307) + [19]*int(0.02*307) + [21]*int(0.01*307)  + [23]*int(0.23*307) + [24]*int(0.10*307) + [25]*int(0.13*307) + [26]*int(0.11*307) + [27]*int(0.08*307)  + [28]*int(0.06*307) + [29]*int(0.04*307) + [30]*int(0.02*307) + [32]*int(0.01*307)\n",
    "control_drpla = [8]*int(0.12*307) + [10]*int(0.11*307) + [11]*int(0.01*307)  + [12]*int(0.02*307) + [13]*int(0.01*307) + [14]*int(0.04*307) + [15]*int(0.37*307) + [16]*int(0.20*307)  + [17]*int(0.07*307) + [18]*int(0.01*307) + [19]*int(0.02*307) + [20]*int(0.02*307)\n",
    "\n",
    "## https://www.ncbi.nlm.nih.gov/pmc/articles/PMC5387946/ CHINESE\n",
    "control_dm1 = [5]*31+[11]*14+[12]*30+[13]*14+[14]*3+[15]*5+[16]*1+[24]*1+[27]*1\n",
    "\n",
    "## dbgap\n",
    "control_htt = [int(item.strip()) for item in open(\"/storage/s1saini/manuscript_strsnp/fig3/tredparse_calls/htt_control_freqs.txt\").readlines()]\n",
    "\n",
    "\n",
    "## https://watermark.silverchair.com/7-3-525.pdf?token=AQECAHi208BE49Ooan9kkhW_Ercy7Dm3ZL_9Cf3qfKAc485ysgAAAcIwggG-BgkqhkiG9w0BBwagggGvMIIBqwIBADCCAaQGCSqGSIb3DQEHATAeBglghkgBZQMEAS4wEQQMQVRCTPBR23c3gocMAgEQgIIBdU-nNh98c-PvRwlhyJ1hcujN4Rerxl2-qN-Z_oLzrHn6I84wQh_hH8Y4mqDSALsBsGoINdN3AJlRfvnVgqrI6Jp5dOUWxytgIRn43lXiTPqM-CB66M913J9fZhcZF9XcxvW_UUsqtfKLi5GMbS3LWgKBi8aTQgn6w6zNB3nG5QfMu36TM1AUVuBCbBzx_MmE05OQj6Se_z7kxcH_lsqyotGE1znYgifTxCZ12bj2RtyuRE6ImShOWsYEDapbiXzssmTmoUPKmVUjSpbvU92yWje8Iu8abOPT-9W_Bmx-xavBnxH5lEo4HlvoL3qxtkm2KMYKbNE_YTS_03zNUO6lWa63OLyUvmlo-G-6QV5pZq967P_Z8ray2MwfoFfri21184LzL5BSXDwEB_uGYl0Fkl6hngGw0OMVANy-kscUuEh8sA4dj1YE5dTpCVEk2e2dZc0AIE7eXj30q3BQHy2USmZsX6aqdspRDjZFeWGOo1rQeEeoAa8\n",
    "# Analysis of the dynamic mutation in the SCA7 gene\n",
    "#shows marked parental effects on CAG repeat\n",
    "#transmission\n",
    "ctrl_size2 = 144\n",
    "control_sca7 = [8]*(int(0.05*ctrl_size2))+[9]*(int(0.01*ctrl_size2))+\\\n",
    "    [10]*(int(0.55*ctrl_size2))+[11]*(int(0.15*ctrl_size2))+\\\n",
    "    [12]*(int(0.13*ctrl_size2))+[13]*(int(0.13*ctrl_size2))\n",
    "\n",
    "# https://www.ncbi.nlm.nih.gov/pmc/articles/PMC3880650/\n",
    "control_hdl= [11]*int(0.03*352) + [14]*int(0.53*352) + [15]*int(0.05*352) + [16]*int(0.28*352) + [17]*int(0.07*352) + [18]*int(0.01*352)\n",
    "\n",
    "sca1_length = 87\n",
    "sca2_length = 69\n",
    "sca3_length = 24+18 # adding imperfect region next to it\n",
    "sca6_length = 39\n",
    "#sca4_length = 0\n",
    "#sca10_length = 0\n",
    "sca12_length = 30\n",
    "sca17_length = 114\n",
    "sca8_length = 78 #45 changing since also has \"TAC\" repeat next to it\n",
    "drpla_length = 45\n",
    "dm1_length = 60\n",
    "#htt_length = 0\n",
    "hdl_length = 42\n",
    "htt_length = 57\n",
    "sca7_length = 30\n",
    "\n",
    "afData = pd.concat([afData, returnAFDF(\"SCA1\", \"Control\", [x*3-sca1_length for x in control_sca1])])\n",
    "afData = pd.concat([afData, returnAFDF(\"SCA2\", \"Control\", [x*3-sca2_length for x in control_sca2])])\n",
    "afData = pd.concat([afData, returnAFDF(\"SCA3\", \"Control\", [x*3-sca3_length for x in control_sca3])])\n",
    "afData = pd.concat([afData, returnAFDF(\"SCA6\", \"Control\", [x*3-sca6_length for x in control_sca6])])\n",
    "afData = pd.concat([afData, returnAFDF(\"SCA12\", \"Control\", [x*3-sca12_length for x in control_sca12])])\n",
    "afData = pd.concat([afData, returnAFDF(\"SCA17\", \"Control\", [x*3-sca17_length for x in control_sca17])])\n",
    "afData = pd.concat([afData, returnAFDF(\"SCA8\", \"Control\", [x*3-sca8_length for x in control_sca8])])\n",
    "afData = pd.concat([afData, returnAFDF(\"DRPLA\", \"Control\", [x*3-drpla_length for x in control_drpla])])\n",
    "afData = pd.concat([afData, returnAFDF(\"DM1\", \"Control\", [x*3-dm1_length for x in control_dm1])])\n",
    "afData = pd.concat([afData, returnAFDF(\"HDL\", \"Control\", [x*3-hdl_length for x in control_hdl])])\n",
    "afData = pd.concat([afData, returnAFDF(\"HD\", \"Control\", [x*3-htt_length for x in control_htt])])\n",
    "afData = pd.concat([afData, returnAFDF(\"SCA7\", \"Control\", [x*3-sca7_length for x in control_sca7])])"
   ]
  },
  {
   "cell_type": "code",
   "execution_count": 22,
   "metadata": {
    "collapsed": false
   },
   "outputs": [
    {
     "name": "stdout",
     "output_type": "stream",
     "text": [
      "HD 17.0 18.0 Ttest_indResult(statistic=-0.04357719567278365, pvalue=0.9652436031033031)\n",
      "SCA1 30.0 31.0 Ttest_indResult(statistic=-7.162193345371833, pvalue=9.533985514447339e-13)\n",
      "SCA17 37.0 35.0 Ttest_indResult(statistic=8.233534034612386, pvalue=2.52253196225264e-16)\n",
      "SCA2 22.0 22.0 Ttest_indResult(statistic=1.344936697552033, pvalue=0.17872052402034058)\n",
      "DRPLA 15.0 15.0 Ttest_indResult(statistic=-2.1273713583170375, pvalue=0.03345645065291013)\n",
      "SCA8 25.0 24.0 Ttest_indResult(statistic=4.572857284527722, pvalue=4.9601204229938e-06)\n",
      "SCA3 23.0 23.0 Ttest_indResult(statistic=2.3742588637569195, pvalue=0.017632560996789663)\n",
      "DM1 11.0 12.0 Ttest_indResult(statistic=0.6793745354097702, pvalue=0.49694064111705294)\n",
      "SCA6 11.0 12.0 Ttest_indResult(statistic=-2.5831264562647713, pvalue=0.009828450448721077)\n",
      "SCA7 11.0 10.0 Ttest_indResult(statistic=3.2820884163210318, pvalue=0.0010503908534191843)\n",
      "SCA12 13.0 10.0 Ttest_indResult(statistic=4.763949394132788, pvalue=1.99494946890663e-06)\n",
      "HDL 16.0 14.0 Ttest_indResult(statistic=4.2011079400214335, pvalue=2.7295376433061817e-05)\n"
     ]
    },
    {
     "data": {
      "image/png": "[encoded data removed]",
      "text/plain": [
       "<Figure size 720x216 with 1 Axes>"
      ]
     },
     "metadata": {},
     "output_type": "display_data"
    }
   ],
   "source": [
    "#\n",
    "\n",
    "#loci = set(afData[\"locus\"])\n",
    "loci = [\"HD\", \"SCA1\",\"SCA17\",\"SCA2\",\"DRPLA\",\"SCA8\",\"SCA3\",\"DM1\",\"SCA6\",\"SCA7\",\"SCA12\",\"HDL\"]\n",
    "ref_len = {\n",
    "    \"HD\": htt_length,\n",
    "    \"SCA1\": sca1_length,\n",
    "    \"SCA17\": sca17_length,\n",
    "    \"SCA2\": sca2_length,\n",
    "    \"DRPLA\": drpla_length,\n",
    "    \"SCA8\": sca8_length,\n",
    "    \"SCA3\": sca3_length,\n",
    "    \"DM1\": dm1_length,\n",
    "    \"SCA6\": sca6_length,\n",
    "    \"SCA7\": sca7_length,\n",
    "    \"SCA12\": sca12_length,\n",
    "    \"HDL\": hdl_length\n",
    "}\n",
    "data = []\n",
    "labels = []\n",
    "for locus in loci:\n",
    "    tp = []\n",
    "    ct = []\n",
    "    for algorithm in \"TredParse\",\"Control\":\n",
    "        x = (np.array(list(afData[(afData[\"algorithm\"]==algorithm) & (afData[\"locus\"]==locus)][\"allele\"]))+ref_len[locus])/3\n",
    "        data.append(x)\n",
    "        if algorithm == \"TredParse\":\n",
    "            tp = x\n",
    "            labels.append(locus)\n",
    "        else:\n",
    "            ct = x\n",
    "            labels.append(\"\")\n",
    "    print(\"%s %s %s %s\"%(locus, np.median(tp), np.median(ct), scipy.stats.ttest_ind(tp, ct)))\n",
    "    \n",
    "fig = plt.figure()\n",
    "fig.set_size_inches((10, 3))\n",
    "ax = fig.add_subplot(111)\n",
    "bplot = ax.boxplot(data, whis=\"range\", patch_artist=True, medianprops={\"color\":\"black\"});\n",
    "ax.set_ylim(bottom=0, top=60);\n",
    "\n",
    "colors = [\"blue\",\"gold\"]*len(loci)\n",
    "for patch, color in zip(bplot[\"boxes\"], colors):\n",
    "    patch.set_facecolor(color)\n",
    "ax.set_xticks(np.arange(1.5, len(loci)*2+0.5, 2));\n",
    "ax.set_xticklabels(loci, rotation=60);\n",
    "for i in np.arange(2.5, len(loci)*2, 2): ax.axvline(x=i, color=\"gray\", linestyle=\"dashed\", linewidth=0.5)\n",
    "ax.set_ylabel(\"Number of Repeats\", size=15);\n",
    "fig.savefig(os.path.join(\"pdfs\",\"Figure1_TP.pdf\"))\n",
    "# Need to fix\n",
    "# SCA8 - had other repeat next to it that was counted\n",
    "# SCA3\n",
    "# SCA7 no controls"
   ]
  },
  {
   "cell_type": "markdown",
   "metadata": {},
   "source": [
    "# Supplemental Figure: Length bias"
   ]
  },
  {
   "cell_type": "code",
   "execution_count": 23,
   "metadata": {
    "collapsed": false
   },
   "outputs": [],
   "source": [
    "reflen = range(10, 100, 1)\n",
    "diffs = []\n",
    "percs = []\n",
    "for i in range(len(reflen)-1):\n",
    "    lb = reflen[i]\n",
    "    ub = reflen[i+1]\n",
    "    x = locstats[(locstats[\"length\"]>=lb) & (locstats[\"length\"]<ub)]\n",
    "    if x.shape[0] <= 25:\n",
    "        diffs.append(np.nan)\n",
    "    else:\n",
    "        diffs.append(sum(x.apply(lambda x: x[\"mean_allele\"]*x[\"numcalls\"], 1))/sum(x[\"numcalls\"]))\n",
    "    percs.append(locstats[locstats[\"length\"]<ub].shape[0]*1.0/locstats.shape[0])"
   ]
  },
  {
   "cell_type": "code",
   "execution_count": 24,
   "metadata": {
    "collapsed": false
   },
   "outputs": [
    {
     "data": {
      "image/png": "[encoded data removed]",
      "text/plain": [
       "<Figure size 432x288 with 2 Axes>"
      ]
     },
     "metadata": {},
     "output_type": "display_data"
    }
   ],
   "source": [
    "xmax = 100\n",
    "fig = plt.figure()\n",
    "ax = fig.add_subplot(111)\n",
    "ax.scatter(reflen[:-1], diffs, color=\"black\", s=7);\n",
    "ax.set_xlabel(\"Reference length (bp in hg19)\", size=15)\n",
    "ax.set_ylabel(\"Median Deviation (bp)\", size=15)\n",
    "ax.set_ylim(bottom=-2, top=2)\n",
    "ax.set_xlim(left=10, right=xmax)\n",
    "ax.set_yticklabels(ax.get_yticks(), size=12)\n",
    "ax.axhline(y=0, linestyle=\"dashed\", color=\"gray\")\n",
    "\n",
    "ax2 = ax.twinx()\n",
    "ax2.plot(reflen[:-1], percs, color=\"red\");\n",
    "ax2.set_ylim(bottom=0, top=1)\n",
    "ax2.set_xlim(left=10, right=xmax)\n",
    "ax2.set_xticklabels([int(x) for x in ax.get_xticks()], size=12);\n",
    "ax2.axvline(x=40, linestyle=\"dashed\", color=\"gray\")\n",
    "fig.savefig(os.path.join(OUTPATH, \"SuppFig_LengthBias.pdf\"));"
   ]
  },
  {
   "cell_type": "code",
   "execution_count": null,
   "metadata": {
    "collapsed": true
   },
   "outputs": [],
   "source": []
  },
  {
   "cell_type": "markdown",
   "metadata": {},
   "source": [
    "# Capillary data"
   ]
  },
  {
   "cell_type": "code",
   "execution_count": 25,
   "metadata": {
    "collapsed": true
   },
   "outputs": [],
   "source": [
    "def GetConcordance(x):\n",
    "    if x[\"gral1\"] < x[\"gral2\"]:\n",
    "        g1, g2 = x[\"gral1\"], x[\"gral2\"]\n",
    "    else: g1, g2 = x[\"gral2\"], x[\"gral1\"]\n",
    "    if x[\"imal1\"] < x[\"imal2\"]:\n",
    "        i1, i2 = x[\"imal1\"], x[\"imal2\"]\n",
    "    else: i1, i2 = x[\"imal2\"], x[\"imal1\"]\n",
    "    if \".\" in [g1, g2, i1, i2]: return np.nan\n",
    "    g1 = int(g1); g2=int(g2); i1=int(i1); i2=int(i2)\n",
    "    g1 = g1 + x[\"offset\"]\n",
    "    g2 = g2 + x[\"offset\"]\n",
    "    if g1 == i1 and g2 == i2: return 1\n",
    "    elif g1 in [i1, i2] or g2 in [i1, i2]: return 0.5\n",
    "    else: return 0\n",
    "    \n",
    "def GetConcordance2(x):\n",
    "    diff1 = abs(x[\"gral1\"]-x[\"gral2\"])\n",
    "    diff2 = abs(x[\"imal1\"]-x[\"imal2\"])\n",
    "    return int(diff1==diff2)"
   ]
  },
  {
   "cell_type": "code",
   "execution_count": 26,
   "metadata": {
    "collapsed": false
   },
   "outputs": [],
   "source": [
    "data = pd.read_csv(\"capillary_vs_imputed_calls.csv\")\n",
    "data[\"offset\"] = 0\n",
    "data[\"conc\"] = data.apply(GetConcordance, 1)\n",
    "data = data[~np.isnan(data[\"conc\"])]"
   ]
  },
  {
   "cell_type": "code",
   "execution_count": 27,
   "metadata": {
    "collapsed": false
   },
   "outputs": [],
   "source": [
    "MINSAMPLES = 50\n",
    "\n",
    "# restrict to repeats analyzed in lobstr paper\n",
    "usestrs = pd.read_csv(\"marshfield_marker_corrections.tab\", sep=\"\\t\", names=[\"chrom\",\"start\",\"end\",\"name2\",\"offset_lob\"])\n",
    "pemb = pd.read_csv(\"pemberton_sorted.tab\", sep=\"\\t\", names=[\"name\",\"name2\"])\n",
    "usestrs = pd.merge(usestrs, pemb, on=[\"name2\"])\n",
    "\n",
    "# Restrict to loci with at least 50 samples \n",
    "names = []\n",
    "calls = []\n",
    "for locus in set(usestrs[\"name\"]):\n",
    "    names.append(locus)\n",
    "    calls.append(data[(data[\"name\"]==locus) & (data[\"gral1\"]!=\".\")].shape[0])\n",
    "callrate = pd.DataFrame({\"name\": names, \"calls\": calls})\n",
    "usestrs = pd.merge(usestrs, callrate, on=[\"name\"])\n",
    "usestrs = usestrs[usestrs[\"calls\"]>=MINSAMPLES]\n",
    "data = pd.merge(usestrs, data, on=[\"name\"])"
   ]
  },
  {
   "cell_type": "code",
   "execution_count": 28,
   "metadata": {
    "collapsed": false
   },
   "outputs": [],
   "source": [
    "# Restrict to European samples\n",
    "ONEKGPOP=\"1000GenomesPopulations.csv\"\n",
    "onekg = pd.read_csv(ONEKGPOP)\n",
    "eur_samples = list(onekg[onekg[\"Superpop\"]==\"EUR\"][\"sample\"])\n",
    "data = data[data[\"sample\"].apply(lambda x: x in eur_samples)]"
   ]
  },
  {
   "cell_type": "code",
   "execution_count": 29,
   "metadata": {
    "collapsed": true
   },
   "outputs": [],
   "source": [
    "offsets = {}\n",
    "markers = set(data[\"name\"])\n",
    "for col in [\"gral1\",\"gral2\",\"imal1\",\"imal2\"]:\n",
    "    data[col] = data[col].apply(int)\n",
    "for marker in markers:\n",
    "    x = data[data[\"name\"]==marker].copy()\n",
    "    x[\"err1\"] = -1*(x[\"gral1\"]-x[\"imal1\"])\n",
    "    x[\"err2\"] = -1*(x[\"gral1\"]-x[\"imal2\"])\n",
    "    x[\"err3\"] = -1*(x[\"gral2\"]-x[\"imal1\"])\n",
    "    x[\"err4\"] = -1*(x[\"gral2\"]-x[\"imal2\"])\n",
    "    possible_offsets = set(list(x[\"err1\"])+list(x[\"err2\"])+ list(x[\"err3\"]) + list(x[\"err4\"]))\n",
    "    best_offset = 0\n",
    "    best_conc = 0\n",
    "    for po in possible_offsets:\n",
    "        x[\"offset\"] = po\n",
    "        x[\"conc\"] = x.apply(GetConcordance, 1)\n",
    "        m = np.mean(x[\"conc\"])\n",
    "        if m > best_conc:\n",
    "            best_conc = m\n",
    "            best_offset = po\n",
    "    offsets[marker] = best_offset"
   ]
  },
  {
   "cell_type": "code",
   "execution_count": 30,
   "metadata": {
    "collapsed": false
   },
   "outputs": [
    {
     "name": "stdout",
     "output_type": "stream",
     "text": [
      "0.7685219773378159\n"
     ]
    }
   ],
   "source": [
    "data[\"offset\"] = data.apply(lambda x: offsets.get(x[\"name\"], 0), 1)\n",
    "data[\"conc\"] = data.apply(GetConcordance, 1)\n",
    "\n",
    "print(np.mean(data[\"conc\"]))"
   ]
  },
  {
   "cell_type": "code",
   "execution_count": 31,
   "metadata": {
    "collapsed": true
   },
   "outputs": [],
   "source": [
    "markers = list(set(data[\"name\"]))\n",
    "conc = []\n",
    "for marker in markers:\n",
    "    x = data[data[\"name\"]==marker]\n",
    "    conc.append(np.mean(x[\"conc\"]))\n",
    "d = pd.DataFrame({\"name\": markers, \"conc\": conc})\n",
    "d = d.sort_values(\"conc\")"
   ]
  },
  {
   "cell_type": "code",
   "execution_count": 32,
   "metadata": {
    "collapsed": false
   },
   "outputs": [
    {
     "name": "stdout",
     "output_type": "stream",
     "text": [
      "(0.9622866790874177, 0.0)\n"
     ]
    },
    {
     "data": {
      "image/png": "[encoded data removed]",
      "text/plain": [
       "<Figure size 432x288 with 1 Axes>"
      ]
     },
     "metadata": {},
     "output_type": "display_data"
    }
   ],
   "source": [
    "# Bubble plot\n",
    "data[\"dosage1\"] = data[\"gral1\"]+data[\"gral2\"]+data[\"offset\"]*2\n",
    "data[\"dosage2\"] = data[\"imal1\"]+data[\"imal2\"]\n",
    "\n",
    "print(scipy.stats.pearsonr(data[\"dosage1\"], data[\"dosage2\"]))\n",
    "\n",
    "bubble = data.groupby([\"dosage1\",\"dosage2\"], as_index=False).agg({\"conc\": len})\n",
    "fig = plt.figure()\n",
    "ax = fig.add_subplot(111)\n",
    "ax.scatter(bubble[\"dosage1\"], bubble[\"dosage2\"], s=bubble[\"conc\"])\n",
    "ax.plot([-75,75],[-75,75], color=\"black\")\n",
    "ax.set_xlabel(\"Capillary dosage\", size=15)\n",
    "ax.set_ylabel(\"Imputed dosage\", size=15);"
   ]
  },
  {
   "cell_type": "markdown",
   "metadata": {},
   "source": [
    "## Per-locus comparison with SSC LOO"
   ]
  },
  {
   "cell_type": "code",
   "execution_count": 33,
   "metadata": {
    "collapsed": true
   },
   "outputs": [],
   "source": [
    "DATADIR=\"/storage/s1saini/manuscript_strsnp/fig3/ssc-imputation/\"\n",
    "sscloo = pd.read_csv(os.path.join(DATADIR, \"loo\",\"l1o.ALL.chr.csv\")).drop(['pos'], axis=1).drop_duplicates(subset=['str'])\n",
    "sscloo[\"loo_r2\"] = sscloo[\"loo_r\"]**2\n",
    "sscloo[\"wgs_eur_r2\"] = sscloo[\"wgs_eur_r\"]**2\n",
    "id_start = pd.read_csv(os.path.join(DATADIR, \"loo\", \"ALL.START_ID.txt\"), delim_whitespace=True, names=[\"str\",\"pos\"]).drop_duplicates(subset=['pos'])\n",
    "position_to_id = pd.read_csv(\"/storage/s1saini/manuscript_strsnp/fig3/position_to_id/ALL.position_to_id.txt\", names=[\"pos\", \"str\"], delim_whitespace=True)\n",
    "expected_concordance = pd.read_csv(\"/storage/s1saini/manuscript_strsnp/fig3/expected_concordance/ALL.exp_concord.txt\", names=[\"pos\", \"exp_concord\"], delim_whitespace=True)\n",
    "expected_concordance = pd.merge(expected_concordance, position_to_id, on=\"pos\", how=\"inner\")\n",
    "sscloo = pd.merge(sscloo, expected_concordance, on=\"str\", how=\"inner\")\n",
    "sscloo = pd.merge(sscloo[[\"str\",\"loo_concordance\",\"wgs_eur_concordance\",\"wgs_eur_r2\", \"loo_r2\",\"exp_concord\"]], id_start, on=[\"str\"])"
   ]
  },
  {
   "cell_type": "code",
   "execution_count": 34,
   "metadata": {
    "collapsed": true
   },
   "outputs": [],
   "source": [
    "loci = list(set(data[\"name\"]))\n",
    "conc = []\n",
    "conc2 = []\n",
    "r2 = []\n",
    "\n",
    "for l in loci:\n",
    "    x = data[data[\"name\"]==l]\n",
    "    conc.append(np.mean(x.apply(GetConcordance, 1)))\n",
    "    conc2.append(np.mean(x.apply(GetConcordance2, 1)))\n",
    "    r2.append(scipy.stats.pearsonr(x[\"dosage1\"], x[\"dosage2\"])[0]**2)\n",
    "capdata = pd.DataFrame({\"str\": loci, \"cap_conc\": conc, \"cap_r2\": r2, \"cap_conc2\": conc2})"
   ]
  },
  {
   "cell_type": "code",
   "execution_count": 35,
   "metadata": {
    "collapsed": false
   },
   "outputs": [
    {
     "name": "stdout",
     "output_type": "stream",
     "text": [
      "(0.8303417260396155, 1.050336256812244e-53)\n",
      "206\n",
      "0.7688229352565842\n",
      "0.7688229352565842\n",
      "0.36764582287683034\n"
     ]
    },
    {
     "data": {
      "image/png": "[encoded data removed]",
      "text/plain": [
       "<Figure size 432x288 with 1 Axes>"
      ]
     },
     "metadata": {},
     "output_type": "display_data"
    }
   ],
   "source": [
    "comp = pd.merge(capdata, sscloo, on=[\"str\"])\n",
    "\n",
    "true_color = (0.2980392156862745, 0.4470588235294118, 0.6901960784313725)\n",
    "exp_color = (0.3333333333333333, 0.6588235294117647, 0.40784313725490196)\n",
    "\n",
    "fig = plt.figure()\n",
    "ax = fig.add_subplot(111)\n",
    "ax.scatter(comp[\"cap_conc\"], comp[\"wgs_eur_concordance\"], color=true_color)\n",
    "#ax.scatter(comp[\"cap_conc\"], comp[\"exp_concord\"], color=exp_color)\n",
    "ax.plot([0.5, 1], [0.5,1])\n",
    "ax.spines['right'].set_visible(False)\n",
    "ax.spines['top'].set_visible(False)\n",
    "ax.yaxis.set_ticks_position('left')\n",
    "ax.xaxis.set_ticks_position('bottom')\n",
    "ax.set_xlabel(\"Capillary concordance\", size=15)\n",
    "ax.set_ylabel(\"HipSTR concordance\", size=15)\n",
    "fig.savefig(\"Figure2_Capillary.pdf\")\n",
    "print(scipy.stats.pearsonr(comp[\"cap_conc\"], comp[\"wgs_eur_concordance\"]))\n",
    "print(comp.shape[0])\n",
    "print(np.mean(comp[\"cap_conc\"]))\n",
    "print(np.mean(comp[\"cap_conc\"]))\n",
    "print(np.mean(comp[\"exp_concord\"]))"
   ]
  },
  {
   "cell_type": "code",
   "execution_count": null,
   "metadata": {
    "collapsed": true
   },
   "outputs": [],
   "source": []
  },
  {
   "cell_type": "markdown",
   "metadata": {},
   "source": [
    "# 10X data for NA12878"
   ]
  },
  {
   "cell_type": "code",
   "execution_count": 36,
   "metadata": {
    "collapsed": true
   },
   "outputs": [],
   "source": [
    "DATADIR=\"/storage/s1saini/manuscript_strsnp/fig3/ssc-imputation/\"\n",
    "\n",
    "def errorfill(x, y, yerr, color=None, alpha_fill=0.3, ax=None, label=\"_nolegend_\"):\n",
    "    ax = ax if ax is not None else plt.gca()\n",
    "    if np.isscalar(yerr) or len(yerr) == len(y):\n",
    "        ymin = y - yerr\n",
    "        ymax = y + yerr\n",
    "    elif len(yerr) == 2:\n",
    "        ymin, ymax = yerr\n",
    "    base_line, = ax.plot(x, y, color=color, label=label)\n",
    "    if color is None:\n",
    "        color = base_line.get_color()\n",
    "    ax.fill_between(x, ymax, ymin, facecolor=color, alpha=alpha_fill)\n",
    "\n",
    "def GetError(x, num):\n",
    "    snp1 = x[\"snppanel\"].split(\"|\")\n",
    "    snp2 = x[\"snp10x\"].split(\"|\")\n",
    "    str1 = x[\"strpanel\"].split(\"|\")\n",
    "    str2 = x[\"str10x\"].split(\"|\")\n",
    "    str1 = [int(item) for item in str1]\n",
    "    str2 = [int(item) for item in str2]\n",
    "    if snp1[0] == snp2[0]:\n",
    "        if num == 1: return str1[0]-str2[0]\n",
    "        else: return str1[1]-str2[1]\n",
    "    else: \n",
    "        if num == 1: return str1[1]-str2[0]\n",
    "        else: return str1[0]-str2[1]\n",
    "        \n",
    "def Concordant(gt1, gt2):\n",
    "    gt1 = gt1.split(\"|\")\n",
    "    gt2 = gt2.split(\"|\")\n",
    "    if gt1[0] == gt2[0] and gt1[1] == gt2[1]: return True\n",
    "    elif gt1[1] == gt2[0] and gt1[0] == gt2[1]: return True\n",
    "    else: return False\n",
    "    \n",
    "def IsHet(gt):\n",
    "    gt = gt.split(\"|\")\n",
    "    return gt[0] != gt[1]\n",
    "\n",
    "# Get phase info\n",
    "def GetPhase(x):\n",
    "    snp1 = x[\"snppanel\"].split(\"|\")\n",
    "    snp2 = x[\"snp10x\"].split(\"|\")\n",
    "    str1 = x[\"strpanel\"].split(\"|\")\n",
    "    str2 = x[\"str10x\"].split(\"|\")\n",
    "    if snp1[0] == snp2[0]:\n",
    "        return str1[0]==str2[0] and str1[1]==str2[1]\n",
    "    else: return str1[1]==str2[0] and str1[0]==str2[1]"
   ]
  },
  {
   "cell_type": "code",
   "execution_count": 37,
   "metadata": {
    "collapsed": false
   },
   "outputs": [
    {
     "name": "stdout",
     "output_type": "stream",
     "text": [
      "Before filtering, have 118353 strs\n",
      "After filtering for discordant SNP, have 116764 strs\n"
     ]
    },
    {
     "name": "stderr",
     "output_type": "stream",
     "text": [
      "/usr/lib/python3.4/site-packages/ipykernel/__main__.py:19: SettingWithCopyWarning: \n",
      "A value is trying to be set on a copy of a slice from a DataFrame.\n",
      "Try using .loc[row_indexer,col_indexer] = value instead\n",
      "\n",
      "See the caveats in the documentation: http://pandas.pydata.org/pandas-docs/stable/indexing.html#indexing-view-versus-copy\n",
      "/usr/lib/python3.4/site-packages/ipykernel/__main__.py:20: SettingWithCopyWarning: \n",
      "A value is trying to be set on a copy of a slice from a DataFrame.\n",
      "Try using .loc[row_indexer,col_indexer] = value instead\n",
      "\n",
      "See the caveats in the documentation: http://pandas.pydata.org/pandas-docs/stable/indexing.html#indexing-view-versus-copy\n",
      "/usr/lib/python3.4/site-packages/ipykernel/__main__.py:23: SettingWithCopyWarning: \n",
      "A value is trying to be set on a copy of a slice from a DataFrame.\n",
      "Try using .loc[row_indexer,col_indexer] = value instead\n",
      "\n",
      "See the caveats in the documentation: http://pandas.pydata.org/pandas-docs/stable/indexing.html#indexing-view-versus-copy\n"
     ]
    }
   ],
   "source": [
    "tenx = pd.read_csv(\"/storage/mgymrek/ssc-imputation/na12878-10x/na12878_panel_vs_10x.tab\", sep=\"\\t\")\n",
    "tenx[\"locus\"] = tenx.apply(lambda x: str(x[\"chrom\"])+\":\"+str(x[\"strpos\"]), 1)\n",
    "\n",
    "sscloo = pd.read_csv(os.path.join(DATADIR, \"loo\",\"l1o.ALL.chr.csv\")).drop(['pos'], axis=1).drop_duplicates(subset=['str'])\n",
    "id_start = pd.read_csv(os.path.join(DATADIR, \"loo\", \"ALL.START_ID.txt\"), delim_whitespace=True, names=[\"str\",\"locus\"]).drop_duplicates(subset=['locus'])\n",
    "sscloo = pd.merge(sscloo, id_start, on=[\"str\"])\n",
    "\n",
    "tenx = pd.merge(tenx, sscloo[[\"locus\",\"loo_concordance\"]], on=[\"locus\"])\n",
    "\n",
    "tenx[\"str.conc\"] = tenx.apply(lambda x: Concordant(x[\"strpanel\"], x[\"str10x\"]), 1)\n",
    "tenx[\"snp.conc\"] = tenx.apply(lambda x: Concordant(x[\"snppanel\"], x[\"snp10x\"]), 1)\n",
    "tenx[\"str.het\"] = tenx.apply(lambda x: IsHet(x[\"str10x\"]), 1)\n",
    "\n",
    "print(\"Before filtering, have %s strs\"%tenx.shape[0])\n",
    "tenx_filtered = tenx[tenx[\"snp.conc\"]]\n",
    "print(\"After filtering for discordant SNP, have %s strs\"%tenx_filtered.shape[0])\n",
    "\n",
    "# Get size of errors\n",
    "tenx_filtered[\"error1\"] = tenx_filtered.apply(lambda x: GetError(x, 1), 1)\n",
    "tenx_filtered[\"error2\"] = tenx_filtered.apply(lambda x: GetError(x, 2), 1)\n",
    "\n",
    "# Get phase\n",
    "tenx_filtered[\"phase.correct\"] = tenx_filtered.apply(lambda x: GetPhase(x), 1)"
   ]
  },
  {
   "cell_type": "code",
   "execution_count": 38,
   "metadata": {
    "collapsed": false
   },
   "outputs": [
    {
     "name": "stdout",
     "output_type": "stream",
     "text": [
      "Overall STR genotype concordance 0.9270237401938953\n",
      "Allele concordance 0.9604415744578808\n",
      "How many phased correctly 0.9975461179154917\n"
     ]
    }
   ],
   "source": [
    "# Stats on STR genotype concordance\n",
    "print(\"Overall STR genotype concordance %s\"%np.mean(tenx_filtered[\"str.conc\"]))\n",
    "\n",
    "# Stats on per-allele concordance\n",
    "print(\"Allele concordance %s\"%np.mean(list(tenx_filtered[\"error1\"]==0)+list(tenx_filtered[\"error2\"]==0)))\n",
    "# Of het STRs called correctly, how many had correct phase\n",
    "x = np.mean(tenx_filtered[tenx_filtered[\"str.conc\"] & tenx_filtered[\"str.het\"]][\"phase.correct\"])\n",
    "print(\"How many phased correctly %s\"%x)"
   ]
  },
  {
   "cell_type": "code",
   "execution_count": 39,
   "metadata": {
    "collapsed": false
   },
   "outputs": [
    {
     "name": "stdout",
     "output_type": "stream",
     "text": [
      "number of calls compared: 116764\n",
      "number of hets: 53243\n",
      "number of hets correct: 46457\n"
     ]
    }
   ],
   "source": [
    "print(\"number of calls compared: %s\"%tenx_filtered.shape[0])\n",
    "print(\"number of hets: %s\"%tenx_filtered[tenx_filtered[\"str.het\"]].shape[0])\n",
    "print(\"number of hets correct: %s\"%tenx_filtered[(tenx_filtered[\"str.het\"]) & (tenx_filtered[\"str.conc\"])].shape[0])"
   ]
  },
  {
   "cell_type": "code",
   "execution_count": 40,
   "metadata": {
    "collapsed": false
   },
   "outputs": [
    {
     "data": {
      "image/png": "[encoded data removed]",
      "text/plain": [
       "<Figure size 432x288 with 1 Axes>"
      ]
     },
     "metadata": {},
     "output_type": "display_data"
    }
   ],
   "source": [
    "# Stratify by LOO concordance\n",
    "true_color = (0.2980392156862745, 0.4470588235294118, 0.6901960784313725)\n",
    "CONCBIN=0.05\n",
    "\n",
    "means = []\n",
    "sds = []\n",
    "nums = []\n",
    "cbs_plot = []\n",
    "cbs = [round(item, 2) for item in np.arange(0.4, 1+CONCBIN, CONCBIN)]\n",
    "for cb in cbs:\n",
    "    x = np.array(tenx_filtered[(tenx_filtered[\"loo_concordance\"]>=cb) & (tenx_filtered[\"loo_concordance\"]<cb+CONCBIN)][\"str.conc\"])\n",
    "    if len(x)>=100:\n",
    "        means.append(np.mean(x))\n",
    "        sds.append(np.sqrt(np.var(x)))\n",
    "        cbs_plot.append(cb)\n",
    "        \n",
    "fig = plt.figure()\n",
    "ax = fig.add_subplot(111)\n",
    "ax.errorbar(cbs_plot, means, yerr=sds, marker=\"o\", linewidth=0.5)\n",
    "ax.spines['right'].set_visible(False)\n",
    "ax.spines['top'].set_visible(False)\n",
    "ax.yaxis.set_ticks_position('left')\n",
    "ax.xaxis.set_ticks_position('bottom')\n",
    "ax.set_xlabel(\"Concordance - LOO\", size=15)\n",
    "ax.set_ylabel(\"Concordance - NA12878\", size=15)\n",
    "ax.set_xlim(left=cbs_plot[0]-CONCBIN/2, right=1+CONCBIN/2)\n",
    "ax.set_ylim(bottom=0, top=1.1)\n",
    "ax.set_xticklabels([\"%.2f\"%item for item in ax.get_xticks()], size=12)\n",
    "ax.set_yticklabels([\"%.2f\"%item for item in ax.get_yticks()], size=12);\n",
    "fig.savefig(\"pdfs/na12878_10x_conc.pdf\")"
   ]
  },
  {
   "cell_type": "code",
   "execution_count": 41,
   "metadata": {
    "collapsed": false
   },
   "outputs": [
    {
     "name": "stderr",
     "output_type": "stream",
     "text": [
      "/usr/lib/python3.4/site-packages/ipykernel/__main__.py:3: SettingWithCopyWarning: \n",
      "A value is trying to be set on a copy of a slice from a DataFrame.\n",
      "Try using .loc[row_indexer,col_indexer] = value instead\n",
      "\n",
      "See the caveats in the documentation: http://pandas.pydata.org/pandas-docs/stable/indexing.html#indexing-view-versus-copy\n",
      "  app.launch_new_instance()\n"
     ]
    },
    {
     "data": {
      "text/plain": [
       "(-0.04077860031986612, 3.88275189168836e-44)"
      ]
     },
     "execution_count": 41,
     "metadata": {},
     "output_type": "execute_result"
    }
   ],
   "source": [
    "# Is concordance correlated with distance to nearest het SNP? moderately\n",
    "import scipy.stats\n",
    "tenx_filtered[\"snp.dist\"] = tenx_filtered.apply(lambda x: abs(x[\"snppos\"]-x[\"strpos\"]), 1)\n",
    "tenx_filtered2 = tenx_filtered[tenx_filtered[\"snp.dist\"]<=50000]\n",
    "scipy.stats.pearsonr(tenx_filtered2[\"snp.dist\"], tenx_filtered2[\"str.conc\"])"
   ]
  },
  {
   "cell_type": "code",
   "execution_count": 42,
   "metadata": {
    "collapsed": false
   },
   "outputs": [
    {
     "data": {
      "text/html": [
       "<div>\n",
       "<style scoped>\n",
       "    .dataframe tbody tr th:only-of-type {\n",
       "        vertical-align: middle;\n",
       "    }\n",
       "\n",
       "    .dataframe tbody tr th {\n",
       "        vertical-align: top;\n",
       "    }\n",
       "\n",
       "    .dataframe thead th {\n",
       "        text-align: right;\n",
       "    }\n",
       "</style>\n",
       "<table border=\"1\" class=\"dataframe\">\n",
       "  <thead>\n",
       "    <tr style=\"text-align: right;\">\n",
       "      <th></th>\n",
       "      <th>chrom</th>\n",
       "      <th>strpos</th>\n",
       "      <th>snppos</th>\n",
       "      <th>strpanel</th>\n",
       "      <th>str10x</th>\n",
       "      <th>snppanel</th>\n",
       "      <th>snp10x</th>\n",
       "      <th>locus</th>\n",
       "      <th>loo_concordance</th>\n",
       "      <th>str.conc</th>\n",
       "      <th>snp.conc</th>\n",
       "      <th>str.het</th>\n",
       "      <th>error1</th>\n",
       "      <th>error2</th>\n",
       "      <th>phase.correct</th>\n",
       "      <th>snp.dist</th>\n",
       "    </tr>\n",
       "  </thead>\n",
       "  <tbody>\n",
       "    <tr>\n",
       "      <th>57792</th>\n",
       "      <td>7</td>\n",
       "      <td>83789542</td>\n",
       "      <td>83789601</td>\n",
       "      <td>-20|-16</td>\n",
       "      <td>-20|-12</td>\n",
       "      <td>1|0</td>\n",
       "      <td>1|0</td>\n",
       "      <td>7:83789542</td>\n",
       "      <td>0.708768</td>\n",
       "      <td>False</td>\n",
       "      <td>True</td>\n",
       "      <td>True</td>\n",
       "      <td>0</td>\n",
       "      <td>-4</td>\n",
       "      <td>False</td>\n",
       "      <td>59</td>\n",
       "    </tr>\n",
       "    <tr>\n",
       "      <th>88941</th>\n",
       "      <td>13</td>\n",
       "      <td>82722160</td>\n",
       "      <td>82722134</td>\n",
       "      <td>0|4</td>\n",
       "      <td>0|4</td>\n",
       "      <td>0|1</td>\n",
       "      <td>0|1</td>\n",
       "      <td>13:82722160</td>\n",
       "      <td>0.685804</td>\n",
       "      <td>True</td>\n",
       "      <td>True</td>\n",
       "      <td>True</td>\n",
       "      <td>0</td>\n",
       "      <td>0</td>\n",
       "      <td>True</td>\n",
       "      <td>26</td>\n",
       "    </tr>\n",
       "    <tr>\n",
       "      <th>118161</th>\n",
       "      <td>22</td>\n",
       "      <td>46659670</td>\n",
       "      <td>46659579</td>\n",
       "      <td>0|4</td>\n",
       "      <td>0|4</td>\n",
       "      <td>0|1</td>\n",
       "      <td>0|1</td>\n",
       "      <td>22:46659670</td>\n",
       "      <td>0.994781</td>\n",
       "      <td>True</td>\n",
       "      <td>True</td>\n",
       "      <td>True</td>\n",
       "      <td>0</td>\n",
       "      <td>0</td>\n",
       "      <td>True</td>\n",
       "      <td>91</td>\n",
       "    </tr>\n",
       "  </tbody>\n",
       "</table>\n",
       "</div>"
      ],
      "text/plain": [
       "        chrom    strpos    snppos strpanel   str10x snppanel snp10x  \\\n",
       "57792       7  83789542  83789601  -20|-16  -20|-12      1|0    1|0   \n",
       "88941      13  82722160  82722134      0|4      0|4      0|1    0|1   \n",
       "118161     22  46659670  46659579      0|4      0|4      0|1    0|1   \n",
       "\n",
       "              locus  loo_concordance  str.conc  snp.conc  str.het  error1  \\\n",
       "57792    7:83789542         0.708768     False      True     True       0   \n",
       "88941   13:82722160         0.685804      True      True     True       0   \n",
       "118161  22:46659670         0.994781      True      True     True       0   \n",
       "\n",
       "        error2  phase.correct  snp.dist  \n",
       "57792       -4          False        59  \n",
       "88941        0           True        26  \n",
       "118161       0           True        91  "
      ]
     },
     "execution_count": 42,
     "metadata": {},
     "output_type": "execute_result"
    }
   ],
   "source": [
    "# Look at CODIS + other markers\n",
    "codis_markers = [\"5:149455884\",\"13:82722160\",\"18:60948895\", \\\n",
    "                 \"19:30417140\",\"3:45582231\",\"5:123111245\", \\\n",
    "                \"7:83789542\",\"8:125907107\",\"4:155508888\", \\\n",
    "                \"15:97374244\",\"11:2192318\",\"2:1493425\",\"22:46659670\"]\n",
    "tenx_filtered[tenx_filtered[\"locus\"].apply(lambda x: x in codis_markers)]"
   ]
  },
  {
   "cell_type": "code",
   "execution_count": 43,
   "metadata": {
    "collapsed": false
   },
   "outputs": [
    {
     "data": {
      "image/png": "[encoded data removed]",
      "text/plain": [
       "<Figure size 504x144 with 1 Axes>"
      ]
     },
     "metadata": {},
     "output_type": "display_data"
    },
    {
     "data": {
      "image/png": "[encoded data removed]",
      "text/plain": [
       "<Figure size 504x144 with 1 Axes>"
      ]
     },
     "metadata": {},
     "output_type": "display_data"
    },
    {
     "data": {
      "image/png": "[encoded data removed]",
      "text/plain": [
       "<Figure size 504x144 with 1 Axes>"
      ]
     },
     "metadata": {},
     "output_type": "display_data"
    },
    {
     "data": {
      "image/png": "[encoded data removed]",
      "text/plain": [
       "<Figure size 504x144 with 1 Axes>"
      ]
     },
     "metadata": {},
     "output_type": "display_data"
    },
    {
     "data": {
      "image/png": "[encoded data removed]",
      "text/plain": [
       "<Figure size 504x144 with 1 Axes>"
      ]
     },
     "metadata": {},
     "output_type": "display_data"
    },
    {
     "data": {
      "image/png": "[encoded data removed]",
      "text/plain": [
       "<Figure size 504x144 with 1 Axes>"
      ]
     },
     "metadata": {},
     "output_type": "display_data"
    }
   ],
   "source": [
    "# Plot examples for panel\n",
    "width=0.5\n",
    "\n",
    "loci = [(\"13:82722160\", 4), (\"7:83789542\", 4)]\n",
    "for locus, period in loci:\n",
    "    chrom, start = locus.split(\":\")\n",
    "    lines = open(\"%s_%s_panel.txt\"%(chrom, start)).readlines()\n",
    "    alleles1 = [int(item)/period for item in lines[0].strip().split()]\n",
    "    alleles2 = [int(item)/period for item in lines[1].strip().split()]\n",
    "    allelesALL = [int(item)/period for item in lines[2].strip().split()]\n",
    "\n",
    "    vals = [item for item in sorted(list(set(allelesALL))) if allelesALL.count(item)>=10]\n",
    "    counts1 = [alleles1.count(item) for item in vals]\n",
    "    counts2 = [alleles2.count(item) for item in vals]\n",
    "    countsALL = [allelesALL.count(item) for item in vals]\n",
    "    fig = plt.figure()\n",
    "    fig.set_size_inches((7, 2))\n",
    "    ax = fig.add_subplot(111)\n",
    "    ax.bar(vals, counts1, color=\"blue\", width=width)\n",
    "    ax.spines['right'].set_visible(False)\n",
    "    ax.spines['top'].set_visible(False)\n",
    "    ax.yaxis.set_ticks_position('left')\n",
    "    ax.xaxis.set_ticks_position('bottom')\n",
    "    ax.set_xticks([])\n",
    "    fig.savefig(\"pdfs/%s_%s_hap1.pdf\"%(chrom, start))\n",
    "    \n",
    "    fig = plt.figure()\n",
    "    fig.set_size_inches((7, 2))\n",
    "    ax = fig.add_subplot(111)\n",
    "    ax.bar(vals, counts2, color=\"red\", width=width)\n",
    "    ax.spines['right'].set_visible(False)\n",
    "    ax.spines['top'].set_visible(False)\n",
    "    ax.yaxis.set_ticks_position('left')\n",
    "    ax.xaxis.set_ticks_position('bottom')\n",
    "    ax.set_xticks([])\n",
    "    fig.savefig(\"pdfs/%s_%s_hap2.pdf\"%(chrom, start))\n",
    "\n",
    "    fig = plt.figure()\n",
    "    fig.set_size_inches((7, 2))\n",
    "    ax = fig.add_subplot(111)\n",
    "    ax.bar(vals, countsALL, color=\"lightgray\", width=width)\n",
    "    ax.spines['right'].set_visible(False)\n",
    "    ax.spines['top'].set_visible(False)\n",
    "    ax.yaxis.set_ticks_position('left')\n",
    "    ax.xaxis.set_ticks_position('bottom')\n",
    "    ax.set_xticks(vals)\n",
    "    fig.savefig(\"pdfs/%s_%s_all.pdf\"%(chrom, start))\n",
    "    #ax.bar([item+width for item in vals], counts2, width=width, color=\"blue\")"
   ]
  },
  {
   "cell_type": "code",
   "execution_count": null,
   "metadata": {
    "collapsed": true
   },
   "outputs": [],
   "source": []
  }
 ],
 "metadata": {
  "kernelspec": {
   "display_name": "Python 3",
   "language": "python",
   "name": "python3"
  },
  "language_info": {
   "codemirror_mode": {
    "name": "ipython",
    "version": 3
   },
   "file_extension": ".py",
   "mimetype": "text/x-python",
   "name": "python",
   "nbconvert_exporter": "python",
   "pygments_lexer": "ipython3",
   "version": "3.4.5"
  }
 },
 "nbformat": 4,
 "nbformat_minor": 2
}
